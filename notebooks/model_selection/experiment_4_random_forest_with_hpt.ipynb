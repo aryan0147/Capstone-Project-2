{
  "cells": [
    {
      "cell_type": "code",
      "execution_count": 1,
      "metadata": {
        "id": "IZ-BK2TaNIbe"
      },
      "outputs": [
        {
          "data": {
            "text/html": [
              "<pre style=\"white-space:pre;overflow-x:auto;line-height:normal;font-family:Menlo,'DejaVu Sans Mono',consolas,'Courier New',monospace\">Accessing as aryan0147\n",
              "</pre>\n"
            ],
            "text/plain": [
              "Accessing as aryan0147\n"
            ]
          },
          "metadata": {},
          "output_type": "display_data"
        },
        {
          "data": {
            "text/html": [
              "<pre style=\"white-space:pre;overflow-x:auto;line-height:normal;font-family:Menlo,'DejaVu Sans Mono',consolas,'Courier New',monospace\">Initialized MLflow to track repo <span style=\"color: #008000; text-decoration-color: #008000\">\"aryan0147/Capstone-Project-2\"</span>\n",
              "</pre>\n"
            ],
            "text/plain": [
              "Initialized MLflow to track repo \u001b[32m\"aryan0147/Capstone-Project-2\"\u001b[0m\n"
            ]
          },
          "metadata": {},
          "output_type": "display_data"
        },
        {
          "data": {
            "text/html": [
              "<pre style=\"white-space:pre;overflow-x:auto;line-height:normal;font-family:Menlo,'DejaVu Sans Mono',consolas,'Courier New',monospace\">Repository aryan0147/Capstone-Project-<span style=\"color: #008080; text-decoration-color: #008080; font-weight: bold\">2</span> initialized!\n",
              "</pre>\n"
            ],
            "text/plain": [
              "Repository aryan0147/Capstone-Project-\u001b[1;36m2\u001b[0m initialized!\n"
            ]
          },
          "metadata": {},
          "output_type": "display_data"
        }
      ],
      "source": [
        "import dagshub\n",
        "import mlflow\n",
        "mlflow.set_tracking_uri(\"https://dagshub.com/aryan0147/Capstone-Project-2.mlflow\")\n",
        "\n",
        "dagshub.init(repo_owner='aryan0147', repo_name='Capstone-Project-2', mlflow=True)"
      ]
    },
    {
      "cell_type": "code",
      "execution_count": 2,
      "metadata": {
        "colab": {
          "base_uri": "https://localhost:8080/"
        },
        "id": "fFQmSXn-NRSd",
        "outputId": "0501efcb-2189-4434-b271-548d1bbcda4d"
      },
      "outputs": [
        {
          "data": {
            "text/plain": [
              "<Experiment: artifact_location='mlflow-artifacts:/d43192cc72bb48deb03d07938721755b', creation_time=1739197271560, experiment_id='12', last_update_time=1739197271560, lifecycle_stage='active', name='ML-Algos', tags={}>"
            ]
          },
          "execution_count": 2,
          "metadata": {},
          "output_type": "execute_result"
        }
      ],
      "source": [
        "# Set or create an experiment\n",
        "mlflow.set_experiment(\"ML-Algos\")"
      ]
    },
    {
      "cell_type": "code",
      "execution_count": 3,
      "metadata": {
        "id": "4uuO21DuNTpB"
      },
      "outputs": [],
      "source": [
        "import pandas as pd\n",
        "from sklearn.feature_extraction.text import TfidfVectorizer\n",
        "from sklearn.model_selection import train_test_split\n",
        "from sklearn.ensemble import RandomForestClassifier\n",
        "from sklearn.metrics import accuracy_score, classification_report\n",
        "from imblearn.over_sampling import SMOTE\n",
        "import mlflow\n",
        "import mlflow.sklearn\n",
        "import optuna\n"
      ]
    },
    {
      "cell_type": "code",
      "execution_count": 4,
      "metadata": {
        "colab": {
          "base_uri": "https://localhost:8080/"
        },
        "id": "-5y38KliNmzU",
        "outputId": "2be847c9-14a8-4406-8547-c85fc34f650c"
      },
      "outputs": [
        {
          "data": {
            "text/plain": [
              "(36662, 2)"
            ]
          },
          "execution_count": 4,
          "metadata": {},
          "output_type": "execute_result"
        }
      ],
      "source": [
        "df = pd.read_csv('../reddit_preprocessing.csv').dropna()\n",
        "df.shape"
      ]
    },
    {
      "cell_type": "code",
      "execution_count": 5,
      "metadata": {
        "colab": {
          "base_uri": "https://localhost:8080/"
        },
        "id": "dZxnJ1FWNtuL",
        "outputId": "abf3cf85-c371-483c-9107-97f75621cb89"
      },
      "outputs": [
        {
          "name": "stderr",
          "output_type": "stream",
          "text": [
            "[I 2025-02-10 20:19:34,067] A new study created in memory with name: no-name-56edfdb8-a04c-48da-90ce-0a2f512d5bd6\n",
            "[I 2025-02-10 20:19:37,706] Trial 0 finished with value: 0.6682121914632483 and parameters: {'n_estimators': 236, 'max_depth': 14, 'min_samples_split': 4, 'min_samples_leaf': 10}. Best is trial 0 with value: 0.6682121914632483.\n",
            "[I 2025-02-10 20:19:40,064] Trial 1 finished with value: 0.6417564434747034 and parameters: {'n_estimators': 277, 'max_depth': 6, 'min_samples_split': 14, 'min_samples_leaf': 2}. Best is trial 0 with value: 0.6682121914632483.\n",
            "[I 2025-02-10 20:19:42,147] Trial 2 finished with value: 0.6553934269739533 and parameters: {'n_estimators': 153, 'max_depth': 10, 'min_samples_split': 7, 'min_samples_leaf': 1}. Best is trial 0 with value: 0.6682121914632483.\n",
            "[I 2025-02-10 20:19:46,008] Trial 3 finished with value: 0.6628937678985408 and parameters: {'n_estimators': 256, 'max_depth': 12, 'min_samples_split': 7, 'min_samples_leaf': 5}. Best is trial 0 with value: 0.6682121914632483.\n",
            "[I 2025-02-10 20:19:49,312] Trial 4 finished with value: 0.6740760943679258 and parameters: {'n_estimators': 202, 'max_depth': 16, 'min_samples_split': 15, 'min_samples_leaf': 13}. Best is trial 4 with value: 0.6740760943679258.\n",
            "[I 2025-02-10 20:19:51,221] Trial 5 finished with value: 0.6679394517932633 and parameters: {'n_estimators': 140, 'max_depth': 15, 'min_samples_split': 7, 'min_samples_leaf': 18}. Best is trial 4 with value: 0.6740760943679258.\n",
            "[I 2025-02-10 20:19:56,242] Trial 6 finished with value: 0.6817128051275058 and parameters: {'n_estimators': 261, 'max_depth': 20, 'min_samples_split': 17, 'min_samples_leaf': 20}. Best is trial 6 with value: 0.6817128051275058.\n",
            "[I 2025-02-10 20:19:59,766] Trial 7 finished with value: 0.6571662348288558 and parameters: {'n_estimators': 218, 'max_depth': 11, 'min_samples_split': 13, 'min_samples_leaf': 15}. Best is trial 6 with value: 0.6817128051275058.\n",
            "[I 2025-02-10 20:20:06,083] Trial 8 finished with value: 0.6697122596481658 and parameters: {'n_estimators': 267, 'max_depth': 15, 'min_samples_split': 13, 'min_samples_leaf': 10}. Best is trial 6 with value: 0.6817128051275058.\n",
            "[I 2025-02-10 20:20:10,724] Trial 9 finished with value: 0.6848493113323333 and parameters: {'n_estimators': 143, 'max_depth': 19, 'min_samples_split': 7, 'min_samples_leaf': 6}. Best is trial 9 with value: 0.6848493113323333.\n",
            "[I 2025-02-10 20:20:12,483] Trial 10 finished with value: 0.6774853402427383 and parameters: {'n_estimators': 69, 'max_depth': 19, 'min_samples_split': 2, 'min_samples_leaf': 6}. Best is trial 9 with value: 0.6848493113323333.\n",
            "[I 2025-02-10 20:20:14,399] Trial 11 finished with value: 0.6776217100777308 and parameters: {'n_estimators': 106, 'max_depth': 20, 'min_samples_split': 18, 'min_samples_leaf': 18}. Best is trial 9 with value: 0.6848493113323333.\n",
            "[I 2025-02-10 20:20:17,216] Trial 12 finished with value: 0.6784399290876858 and parameters: {'n_estimators': 181, 'max_depth': 18, 'min_samples_split': 18, 'min_samples_leaf': 20}. Best is trial 9 with value: 0.6848493113323333.\n",
            "[I 2025-02-10 20:20:17,863] Trial 13 finished with value: 0.617618982681031 and parameters: {'n_estimators': 123, 'max_depth': 3, 'min_samples_split': 10, 'min_samples_leaf': 7}. Best is trial 9 with value: 0.6848493113323333.\n",
            "[I 2025-02-10 20:20:23,735] Trial 14 finished with value: 0.6781671894177008 and parameters: {'n_estimators': 299, 'max_depth': 18, 'min_samples_split': 10, 'min_samples_leaf': 14}. Best is trial 9 with value: 0.6848493113323333.\n",
            "[I 2025-02-10 20:20:25,355] Trial 15 finished with value: 0.6792581480976408 and parameters: {'n_estimators': 73, 'max_depth': 20, 'min_samples_split': 20, 'min_samples_leaf': 8}. Best is trial 9 with value: 0.6848493113323333.\n",
            "[I 2025-02-10 20:20:29,568] Trial 16 finished with value: 0.6810309559525433 and parameters: {'n_estimators': 178, 'max_depth': 17, 'min_samples_split': 5, 'min_samples_leaf': 4}. Best is trial 9 with value: 0.6848493113323333.\n",
            "[I 2025-02-10 20:20:30,689] Trial 17 finished with value: 0.6388926769398608 and parameters: {'n_estimators': 101, 'max_depth': 8, 'min_samples_split': 16, 'min_samples_leaf': 12}. Best is trial 9 with value: 0.6848493113323333.\n",
            "[I 2025-02-10 20:20:32,717] Trial 18 finished with value: 0.6638483567434883 and parameters: {'n_estimators': 152, 'max_depth': 13, 'min_samples_split': 11, 'min_samples_leaf': 17}. Best is trial 9 with value: 0.6848493113323333.\n",
            "[I 2025-02-10 20:20:36,517] Trial 19 finished with value: 0.6773489704077458 and parameters: {'n_estimators': 206, 'max_depth': 17, 'min_samples_split': 8, 'min_samples_leaf': 9}. Best is trial 9 with value: 0.6848493113323333.\n",
            "[I 2025-02-10 20:20:42,179] Trial 20 finished with value: 0.6867584890222282 and parameters: {'n_estimators': 233, 'max_depth': 20, 'min_samples_split': 20, 'min_samples_leaf': 4}. Best is trial 20 with value: 0.6867584890222282.\n",
            "[I 2025-02-10 20:20:50,131] Trial 21 finished with value: 0.6888040365471158 and parameters: {'n_estimators': 240, 'max_depth': 20, 'min_samples_split': 20, 'min_samples_leaf': 2}. Best is trial 21 with value: 0.6888040365471158.\n",
            "[I 2025-02-10 20:20:57,502] Trial 22 finished with value: 0.6829401336424383 and parameters: {'n_estimators': 236, 'max_depth': 18, 'min_samples_split': 20, 'min_samples_leaf': 3}. Best is trial 21 with value: 0.6888040365471158.\n",
            "[I 2025-02-10 20:21:05,832] Trial 23 finished with value: 0.6863493795172508 and parameters: {'n_estimators': 237, 'max_depth': 19, 'min_samples_split': 20, 'min_samples_leaf': 1}. Best is trial 21 with value: 0.6888040365471158.\n",
            "[I 2025-02-10 20:21:12,814] Trial 24 finished with value: 0.6806218464475658 and parameters: {'n_estimators': 235, 'max_depth': 16, 'min_samples_split': 19, 'min_samples_leaf': 1}. Best is trial 21 with value: 0.6888040365471158.\n",
            "[I 2025-02-10 20:21:21,529] Trial 25 finished with value: 0.6862130096822583 and parameters: {'n_estimators': 295, 'max_depth': 20, 'min_samples_split': 20, 'min_samples_leaf': 3}. Best is trial 21 with value: 0.6888040365471158.\n",
            "[I 2025-02-10 20:21:26,336] Trial 26 finished with value: 0.6798036274376108 and parameters: {'n_estimators': 216, 'max_depth': 17, 'min_samples_split': 17, 'min_samples_leaf': 4}. Best is trial 21 with value: 0.6888040365471158.\n",
            "[I 2025-02-10 20:21:32,028] Trial 27 finished with value: 0.6841674621573708 and parameters: {'n_estimators': 196, 'max_depth': 19, 'min_samples_split': 18, 'min_samples_leaf': 1}. Best is trial 21 with value: 0.6888040365471158.\n",
            "[I 2025-02-10 20:21:34,944] Trial 28 finished with value: 0.6544388381290058 and parameters: {'n_estimators': 245, 'max_depth': 9, 'min_samples_split': 16, 'min_samples_leaf': 3}. Best is trial 21 with value: 0.6888040365471158.\n",
            "[I 2025-02-10 20:21:38,786] Trial 29 finished with value: 0.6676667121232783 and parameters: {'n_estimators': 225, 'max_depth': 14, 'min_samples_split': 19, 'min_samples_leaf': 5}. Best is trial 21 with value: 0.6888040365471158.\n",
            "2025/02/10 20:22:06 WARNING mlflow.models.model: Model logged without a signature and input example. Please set `input_example` parameter when logging the model to auto infer the model signature.\n"
          ]
        },
        {
          "name": "stdout",
          "output_type": "stream",
          "text": [
            "🏃 View run RandomForest_ClassWeights_TFIDF_Trigrams at: https://dagshub.com/aryan0147/Capstone-Project-2.mlflow/#/experiments/12/runs/01df6f7464c444aea765e4240e60b5e7\n",
            "🧪 View experiment at: https://dagshub.com/aryan0147/Capstone-Project-2.mlflow/#/experiments/12\n"
          ]
        }
      ],
      "source": [
        "import mlflow\n",
        "import optuna\n",
        "import numpy as np\n",
        "import pandas as pd\n",
        "from sklearn.feature_extraction.text import TfidfVectorizer\n",
        "from sklearn.model_selection import train_test_split\n",
        "from sklearn.utils.class_weight import compute_class_weight\n",
        "from sklearn.ensemble import RandomForestClassifier\n",
        "from sklearn.metrics import accuracy_score, classification_report\n",
        "\n",
        "# Step 1: Remove rows where the target labels (category) are NaN\n",
        "df = df.dropna(subset=['category'])\n",
        "\n",
        "# Step 2: TF-IDF vectorization setup\n",
        "ngram_range = (1, 3)  # Trigram\n",
        "max_features = 1000  # Set max_features to 1000\n",
        "vectorizer = TfidfVectorizer(ngram_range=ngram_range, max_features=max_features)\n",
        "\n",
        "# **Step 3: Train-test split BEFORE any class balancing (Prevents Data Leakage)**\n",
        "X_train, X_test, y_train, y_test = train_test_split(\n",
        "    df['clean_comment'], df['category'], test_size=0.2, random_state=42, stratify=df['category']\n",
        ")\n",
        "\n",
        "# **Step 4: Fit TF-IDF only on training data**\n",
        "X_train_vec = vectorizer.fit_transform(X_train)  # Fit only on training data\n",
        "X_test_vec = vectorizer.transform(X_test)  # Transform test data without refitting\n",
        "\n",
        "# **Step 5: Compute Class Weights Instead of SMOTE**\n",
        "class_weights = compute_class_weight(class_weight=\"balanced\", classes=np.unique(y_train), y=y_train)\n",
        "class_weight_dict = {cls: weight for cls, weight in zip(np.unique(y_train), class_weights)}\n",
        "\n",
        "# Function to log results in MLflow\n",
        "def log_mlflow(model_name, model, X_train, X_test, y_train, y_test):\n",
        "    with mlflow.start_run():\n",
        "        mlflow.set_tag(\"mlflow.runName\", f\"{model_name}_ClassWeights_TFIDF_Trigrams\")\n",
        "        mlflow.set_tag(\"experiment_type\", \"algorithm_comparison\")\n",
        "\n",
        "        # Log algorithm name as a parameter\n",
        "        mlflow.log_param(\"algo_name\", model_name)\n",
        "\n",
        "        # Train model\n",
        "        model.fit(X_train, y_train)\n",
        "\n",
        "        # Make predictions\n",
        "        y_pred = model.predict(X_test)\n",
        "\n",
        "        # Log accuracy\n",
        "        accuracy = accuracy_score(y_test, y_pred)\n",
        "        mlflow.log_metric(\"accuracy\", accuracy)\n",
        "\n",
        "        # Log classification report\n",
        "        classification_rep = classification_report(y_test, y_pred, output_dict=True)\n",
        "        for label, metrics in classification_rep.items():\n",
        "            if isinstance(metrics, dict):\n",
        "                for metric, value in metrics.items():\n",
        "                    mlflow.log_metric(f\"{label}_{metric}\", value)\n",
        "\n",
        "        # Log the model\n",
        "        mlflow.sklearn.log_model(model, f\"{model_name}_model\")\n",
        "\n",
        "# Step 6: Optuna objective function for Random Forest\n",
        "def objective_rf(trial):\n",
        "    n_estimators = trial.suggest_int('n_estimators', 50, 300)  # Number of trees in the forest\n",
        "    max_depth = trial.suggest_int('max_depth', 3, 20)  # Maximum depth of the tree\n",
        "    min_samples_split = trial.suggest_int('min_samples_split', 2, 20)  # Minimum samples required to split a node\n",
        "    min_samples_leaf = trial.suggest_int('min_samples_leaf', 1, 20)  # Minimum samples required at a leaf node\n",
        "\n",
        "    # RandomForestClassifier setup with computed class weights\n",
        "    model = RandomForestClassifier(\n",
        "        n_estimators=n_estimators, max_depth=max_depth,\n",
        "        min_samples_split=min_samples_split, min_samples_leaf=min_samples_leaf,\n",
        "        class_weight=class_weight_dict, random_state=42\n",
        "    )\n",
        "\n",
        "    # Fit and evaluate the model\n",
        "    model.fit(X_train_vec, y_train)\n",
        "    y_pred = model.predict(X_test_vec)\n",
        "    return accuracy_score(y_test, y_pred)\n",
        "\n",
        "# Step 7: Run Optuna for Random Forest, log the best model only\n",
        "def run_optuna_experiment():\n",
        "    study = optuna.create_study(direction=\"maximize\")\n",
        "    study.optimize(objective_rf, n_trials=30)\n",
        "\n",
        "    # Get the best parameters and log only the best model\n",
        "    best_params = study.best_params\n",
        "    best_model = RandomForestClassifier(\n",
        "        n_estimators=best_params['n_estimators'],\n",
        "        max_depth=best_params['max_depth'],\n",
        "        min_samples_split=best_params['min_samples_split'],\n",
        "        min_samples_leaf=best_params['min_samples_leaf'],\n",
        "        class_weight=class_weight_dict, random_state=42\n",
        "    )\n",
        "\n",
        "    # Log the best model with MLflow\n",
        "    log_mlflow(\"RandomForest\", best_model, X_train_vec, X_test_vec, y_train, y_test)\n",
        "\n",
        "# Run the experiment for Random Forest\n",
        "run_optuna_experiment()\n"
      ]
    },
    {
      "cell_type": "code",
      "execution_count": null,
      "metadata": {
        "id": "R2i90uhJNxuk"
      },
      "outputs": [],
      "source": []
    }
  ],
  "metadata": {
    "colab": {
      "provenance": []
    },
    "kernelspec": {
      "display_name": "base",
      "language": "python",
      "name": "python3"
    },
    "language_info": {
      "codemirror_mode": {
        "name": "ipython",
        "version": 3
      },
      "file_extension": ".py",
      "mimetype": "text/x-python",
      "name": "python",
      "nbconvert_exporter": "python",
      "pygments_lexer": "ipython3",
      "version": "3.12.7"
    }
  },
  "nbformat": 4,
  "nbformat_minor": 0
}
