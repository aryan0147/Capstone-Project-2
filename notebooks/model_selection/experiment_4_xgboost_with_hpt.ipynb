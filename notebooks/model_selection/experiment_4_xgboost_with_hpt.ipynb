{
  "cells": [
    {
      "cell_type": "code",
      "execution_count": 1,
      "metadata": {
        "id": "vch7jvzg-O9C"
      },
      "outputs": [
        {
          "data": {
            "text/html": [
              "<pre style=\"white-space:pre;overflow-x:auto;line-height:normal;font-family:Menlo,'DejaVu Sans Mono',consolas,'Courier New',monospace\">Accessing as aryan0147\n",
              "</pre>\n"
            ],
            "text/plain": [
              "Accessing as aryan0147\n"
            ]
          },
          "metadata": {},
          "output_type": "display_data"
        },
        {
          "data": {
            "text/html": [
              "<pre style=\"white-space:pre;overflow-x:auto;line-height:normal;font-family:Menlo,'DejaVu Sans Mono',consolas,'Courier New',monospace\">Initialized MLflow to track repo <span style=\"color: #008000; text-decoration-color: #008000\">\"aryan0147/Capstone-Project-2\"</span>\n",
              "</pre>\n"
            ],
            "text/plain": [
              "Initialized MLflow to track repo \u001b[32m\"aryan0147/Capstone-Project-2\"\u001b[0m\n"
            ]
          },
          "metadata": {},
          "output_type": "display_data"
        },
        {
          "data": {
            "text/html": [
              "<pre style=\"white-space:pre;overflow-x:auto;line-height:normal;font-family:Menlo,'DejaVu Sans Mono',consolas,'Courier New',monospace\">Repository aryan0147/Capstone-Project-<span style=\"color: #008080; text-decoration-color: #008080; font-weight: bold\">2</span> initialized!\n",
              "</pre>\n"
            ],
            "text/plain": [
              "Repository aryan0147/Capstone-Project-\u001b[1;36m2\u001b[0m initialized!\n"
            ]
          },
          "metadata": {},
          "output_type": "display_data"
        }
      ],
      "source": [
        "import dagshub\n",
        "import mlflow\n",
        "mlflow.set_tracking_uri(\"https://dagshub.com/aryan0147/Capstone-Project-2.mlflow\")\n",
        "\n",
        "dagshub.init(repo_owner='aryan0147', repo_name='Capstone-Project-2', mlflow=True)"
      ]
    },
    {
      "cell_type": "code",
      "execution_count": 2,
      "metadata": {
        "colab": {
          "base_uri": "https://localhost:8080/"
        },
        "id": "4aPGvuI7-Yu_",
        "outputId": "3dce621e-5886-4278-f010-b60ce2a8c98a"
      },
      "outputs": [
        {
          "data": {
            "text/plain": [
              "<Experiment: artifact_location='mlflow-artifacts:/d43192cc72bb48deb03d07938721755b', creation_time=1739197271560, experiment_id='12', last_update_time=1739197271560, lifecycle_stage='active', name='ML-Algos', tags={}>"
            ]
          },
          "execution_count": 2,
          "metadata": {},
          "output_type": "execute_result"
        }
      ],
      "source": [
        "# Set or create an experiment\n",
        "mlflow.set_experiment(\"ML-Algos\")"
      ]
    },
    {
      "cell_type": "code",
      "execution_count": 3,
      "metadata": {
        "colab": {
          "base_uri": "https://localhost:8080/"
        },
        "id": "CNoYRU5W-gdD",
        "outputId": "c3dca95b-f9f6-439d-d3b6-e5abb0f34fbe"
      },
      "outputs": [],
      "source": [
        "import optuna\n",
        "import mlflow\n",
        "import mlflow.sklearn\n",
        "from sklearn.model_selection import train_test_split\n",
        "from sklearn.metrics import accuracy_score, classification_report\n",
        "from sklearn.feature_extraction.text import TfidfVectorizer\n",
        "from sklearn.linear_model import LogisticRegression\n",
        "from sklearn.svm import SVC\n",
        "from xgboost import XGBClassifier\n",
        "from lightgbm import LGBMClassifier\n",
        "from sklearn.neighbors import KNeighborsClassifier\n",
        "from sklearn.naive_bayes import MultinomialNB\n",
        "from sklearn.ensemble import RandomForestClassifier\n",
        "from imblearn.over_sampling import SMOTE\n",
        "import matplotlib.pyplot as plt\n",
        "import seaborn as sns\n",
        "import pandas as pd"
      ]
    },
    {
      "cell_type": "code",
      "execution_count": 4,
      "metadata": {
        "colab": {
          "base_uri": "https://localhost:8080/"
        },
        "id": "BhAQ53ko-los",
        "outputId": "fa282c73-bb95-4d60-97f4-aa41001a3933"
      },
      "outputs": [
        {
          "data": {
            "text/plain": [
              "(36662, 2)"
            ]
          },
          "execution_count": 4,
          "metadata": {},
          "output_type": "execute_result"
        }
      ],
      "source": [
        "df = pd.read_csv('../reddit_preprocessing.csv').dropna()\n",
        "df.shape"
      ]
    },
    {
      "cell_type": "code",
      "execution_count": 5,
      "metadata": {
        "id": "d7muRs3BED3o"
      },
      "outputs": [
        {
          "name": "stderr",
          "output_type": "stream",
          "text": [
            "[I 2025-02-10 20:23:23,038] A new study created in memory with name: no-name-a5cc22e1-0a17-47af-8fbe-ca2a5e483a90\n",
            "c:\\Users\\Aryan\\anaconda3\\Lib\\site-packages\\xgboost\\core.py:158: UserWarning: [20:23:23] WARNING: C:\\buildkite-agent\\builds\\buildkite-windows-cpu-autoscaling-group-i-0c55ff5f71b100e98-1\\xgboost\\xgboost-ci-windows\\src\\learner.cc:740: \n",
            "Parameters: { \"scale_pos_weight\" } are not used.\n",
            "\n",
            "  warnings.warn(smsg, UserWarning)\n",
            "[I 2025-02-10 20:25:34,383] Trial 0 finished with value: 0.6532115096140734 and parameters: {'n_estimators': 186, 'learning_rate': 0.0007780142901083071, 'max_depth': 10}. Best is trial 0 with value: 0.6532115096140734.\n",
            "c:\\Users\\Aryan\\anaconda3\\Lib\\site-packages\\xgboost\\core.py:158: UserWarning: [20:25:34] WARNING: C:\\buildkite-agent\\builds\\buildkite-windows-cpu-autoscaling-group-i-0c55ff5f71b100e98-1\\xgboost\\xgboost-ci-windows\\src\\learner.cc:740: \n",
            "Parameters: { \"scale_pos_weight\" } are not used.\n",
            "\n",
            "  warnings.warn(smsg, UserWarning)\n",
            "[I 2025-02-10 20:25:42,409] Trial 1 finished with value: 0.5317059866357562 and parameters: {'n_estimators': 80, 'learning_rate': 0.0004611470308051229, 'max_depth': 3}. Best is trial 0 with value: 0.6532115096140734.\n",
            "c:\\Users\\Aryan\\anaconda3\\Lib\\site-packages\\xgboost\\core.py:158: UserWarning: [20:25:42] WARNING: C:\\buildkite-agent\\builds\\buildkite-windows-cpu-autoscaling-group-i-0c55ff5f71b100e98-1\\xgboost\\xgboost-ci-windows\\src\\learner.cc:740: \n",
            "Parameters: { \"scale_pos_weight\" } are not used.\n",
            "\n",
            "  warnings.warn(smsg, UserWarning)\n",
            "[I 2025-02-10 20:26:41,408] Trial 2 finished with value: 0.6533478794490659 and parameters: {'n_estimators': 96, 'learning_rate': 0.007583368506672538, 'max_depth': 9}. Best is trial 2 with value: 0.6533478794490659.\n",
            "c:\\Users\\Aryan\\anaconda3\\Lib\\site-packages\\xgboost\\core.py:158: UserWarning: [20:26:41] WARNING: C:\\buildkite-agent\\builds\\buildkite-windows-cpu-autoscaling-group-i-0c55ff5f71b100e98-1\\xgboost\\xgboost-ci-windows\\src\\learner.cc:740: \n",
            "Parameters: { \"scale_pos_weight\" } are not used.\n",
            "\n",
            "  warnings.warn(smsg, UserWarning)\n",
            "[I 2025-02-10 20:27:15,259] Trial 3 finished with value: 0.6099822719214509 and parameters: {'n_estimators': 84, 'learning_rate': 0.00014638759266382556, 'max_depth': 7}. Best is trial 2 with value: 0.6533478794490659.\n",
            "c:\\Users\\Aryan\\anaconda3\\Lib\\site-packages\\xgboost\\core.py:158: UserWarning: [20:27:15] WARNING: C:\\buildkite-agent\\builds\\buildkite-windows-cpu-autoscaling-group-i-0c55ff5f71b100e98-1\\xgboost\\xgboost-ci-windows\\src\\learner.cc:740: \n",
            "Parameters: { \"scale_pos_weight\" } are not used.\n",
            "\n",
            "  warnings.warn(smsg, UserWarning)\n",
            "[I 2025-02-10 20:28:12,404] Trial 4 finished with value: 0.6489840447293059 and parameters: {'n_estimators': 266, 'learning_rate': 0.006801605033731841, 'max_depth': 5}. Best is trial 2 with value: 0.6533478794490659.\n",
            "c:\\Users\\Aryan\\anaconda3\\Lib\\site-packages\\xgboost\\core.py:158: UserWarning: [20:28:12] WARNING: C:\\buildkite-agent\\builds\\buildkite-windows-cpu-autoscaling-group-i-0c55ff5f71b100e98-1\\xgboost\\xgboost-ci-windows\\src\\learner.cc:740: \n",
            "Parameters: { \"scale_pos_weight\" } are not used.\n",
            "\n",
            "  warnings.warn(smsg, UserWarning)\n",
            "[I 2025-02-10 20:29:34,429] Trial 5 finished with value: 0.6553934269739533 and parameters: {'n_estimators': 135, 'learning_rate': 0.006969241489661137, 'max_depth': 9}. Best is trial 5 with value: 0.6553934269739533.\n",
            "c:\\Users\\Aryan\\anaconda3\\Lib\\site-packages\\xgboost\\core.py:158: UserWarning: [20:29:34] WARNING: C:\\buildkite-agent\\builds\\buildkite-windows-cpu-autoscaling-group-i-0c55ff5f71b100e98-1\\xgboost\\xgboost-ci-windows\\src\\learner.cc:740: \n",
            "Parameters: { \"scale_pos_weight\" } are not used.\n",
            "\n",
            "  warnings.warn(smsg, UserWarning)\n",
            "[I 2025-02-10 20:30:52,289] Trial 6 finished with value: 0.6099822719214509 and parameters: {'n_estimators': 205, 'learning_rate': 0.00035086205724998694, 'max_depth': 7}. Best is trial 5 with value: 0.6553934269739533.\n",
            "c:\\Users\\Aryan\\anaconda3\\Lib\\site-packages\\xgboost\\core.py:158: UserWarning: [20:30:52] WARNING: C:\\buildkite-agent\\builds\\buildkite-windows-cpu-autoscaling-group-i-0c55ff5f71b100e98-1\\xgboost\\xgboost-ci-windows\\src\\learner.cc:740: \n",
            "Parameters: { \"scale_pos_weight\" } are not used.\n",
            "\n",
            "  warnings.warn(smsg, UserWarning)\n",
            "[I 2025-02-10 20:33:22,846] Trial 7 finished with value: 0.6672576026183008 and parameters: {'n_estimators': 216, 'learning_rate': 0.005625430066484155, 'max_depth': 10}. Best is trial 7 with value: 0.6672576026183008.\n",
            "c:\\Users\\Aryan\\anaconda3\\Lib\\site-packages\\xgboost\\core.py:158: UserWarning: [20:33:22] WARNING: C:\\buildkite-agent\\builds\\buildkite-windows-cpu-autoscaling-group-i-0c55ff5f71b100e98-1\\xgboost\\xgboost-ci-windows\\src\\learner.cc:740: \n",
            "Parameters: { \"scale_pos_weight\" } are not used.\n",
            "\n",
            "  warnings.warn(smsg, UserWarning)\n",
            "[I 2025-02-10 20:36:11,709] Trial 8 finished with value: 0.6378017182599209 and parameters: {'n_estimators': 242, 'learning_rate': 0.0001541031581005709, 'max_depth': 10}. Best is trial 7 with value: 0.6672576026183008.\n",
            "c:\\Users\\Aryan\\anaconda3\\Lib\\site-packages\\xgboost\\core.py:158: UserWarning: [20:36:11] WARNING: C:\\buildkite-agent\\builds\\buildkite-windows-cpu-autoscaling-group-i-0c55ff5f71b100e98-1\\xgboost\\xgboost-ci-windows\\src\\learner.cc:740: \n",
            "Parameters: { \"scale_pos_weight\" } are not used.\n",
            "\n",
            "  warnings.warn(smsg, UserWarning)\n",
            "[I 2025-02-10 20:36:40,398] Trial 9 finished with value: 0.6016637119869085 and parameters: {'n_estimators': 144, 'learning_rate': 0.0015840567431850273, 'max_depth': 5}. Best is trial 7 with value: 0.6672576026183008.\n",
            "c:\\Users\\Aryan\\anaconda3\\Lib\\site-packages\\xgboost\\core.py:158: UserWarning: [20:36:40] WARNING: C:\\buildkite-agent\\builds\\buildkite-windows-cpu-autoscaling-group-i-0c55ff5f71b100e98-1\\xgboost\\xgboost-ci-windows\\src\\learner.cc:740: \n",
            "Parameters: { \"scale_pos_weight\" } are not used.\n",
            "\n",
            "  warnings.warn(smsg, UserWarning)\n",
            "[I 2025-02-10 20:38:09,017] Trial 10 finished with value: 0.788217646256648 and parameters: {'n_estimators': 291, 'learning_rate': 0.060683182902087254, 'max_depth': 8}. Best is trial 10 with value: 0.788217646256648.\n",
            "c:\\Users\\Aryan\\anaconda3\\Lib\\site-packages\\xgboost\\core.py:158: UserWarning: [20:38:09] WARNING: C:\\buildkite-agent\\builds\\buildkite-windows-cpu-autoscaling-group-i-0c55ff5f71b100e98-1\\xgboost\\xgboost-ci-windows\\src\\learner.cc:740: \n",
            "Parameters: { \"scale_pos_weight\" } are not used.\n",
            "\n",
            "  warnings.warn(smsg, UserWarning)\n",
            "[I 2025-02-10 20:39:31,893] Trial 11 finished with value: 0.802672848765853 and parameters: {'n_estimators': 299, 'learning_rate': 0.07480184196525293, 'max_depth': 8}. Best is trial 11 with value: 0.802672848765853.\n",
            "c:\\Users\\Aryan\\anaconda3\\Lib\\site-packages\\xgboost\\core.py:158: UserWarning: [20:39:31] WARNING: C:\\buildkite-agent\\builds\\buildkite-windows-cpu-autoscaling-group-i-0c55ff5f71b100e98-1\\xgboost\\xgboost-ci-windows\\src\\learner.cc:740: \n",
            "Parameters: { \"scale_pos_weight\" } are not used.\n",
            "\n",
            "  warnings.warn(smsg, UserWarning)\n",
            "[I 2025-02-10 20:41:04,436] Trial 12 finished with value: 0.7831719623619255 and parameters: {'n_estimators': 296, 'learning_rate': 0.05360092698819296, 'max_depth': 8}. Best is trial 11 with value: 0.802672848765853.\n",
            "c:\\Users\\Aryan\\anaconda3\\Lib\\site-packages\\xgboost\\core.py:158: UserWarning: [20:41:04] WARNING: C:\\buildkite-agent\\builds\\buildkite-windows-cpu-autoscaling-group-i-0c55ff5f71b100e98-1\\xgboost\\xgboost-ci-windows\\src\\learner.cc:740: \n",
            "Parameters: { \"scale_pos_weight\" } are not used.\n",
            "\n",
            "  warnings.warn(smsg, UserWarning)\n",
            "[I 2025-02-10 20:41:59,184] Trial 13 finished with value: 0.7987181235510705 and parameters: {'n_estimators': 300, 'learning_rate': 0.09371509813957406, 'max_depth': 6}. Best is trial 11 with value: 0.802672848765853.\n",
            "c:\\Users\\Aryan\\anaconda3\\Lib\\site-packages\\xgboost\\core.py:158: UserWarning: [20:41:59] WARNING: C:\\buildkite-agent\\builds\\buildkite-windows-cpu-autoscaling-group-i-0c55ff5f71b100e98-1\\xgboost\\xgboost-ci-windows\\src\\learner.cc:740: \n",
            "Parameters: { \"scale_pos_weight\" } are not used.\n",
            "\n",
            "  warnings.warn(smsg, UserWarning)\n",
            "[I 2025-02-10 20:42:43,766] Trial 14 finished with value: 0.7033956088913133 and parameters: {'n_estimators': 254, 'learning_rate': 0.02488948491660083, 'max_depth': 5}. Best is trial 11 with value: 0.802672848765853.\n",
            "c:\\Users\\Aryan\\anaconda3\\Lib\\site-packages\\xgboost\\core.py:158: UserWarning: [20:42:43] WARNING: C:\\buildkite-agent\\builds\\buildkite-windows-cpu-autoscaling-group-i-0c55ff5f71b100e98-1\\xgboost\\xgboost-ci-windows\\src\\learner.cc:740: \n",
            "Parameters: { \"scale_pos_weight\" } are not used.\n",
            "\n",
            "  warnings.warn(smsg, UserWarning)\n",
            "[I 2025-02-10 20:43:52,746] Trial 15 finished with value: 0.7181235510705032 and parameters: {'n_estimators': 296, 'learning_rate': 0.023904277287544285, 'max_depth': 6}. Best is trial 11 with value: 0.802672848765853.\n",
            "c:\\Users\\Aryan\\anaconda3\\Lib\\site-packages\\xgboost\\core.py:158: UserWarning: [20:43:52] WARNING: C:\\buildkite-agent\\builds\\buildkite-windows-cpu-autoscaling-group-i-0c55ff5f71b100e98-1\\xgboost\\xgboost-ci-windows\\src\\learner.cc:740: \n",
            "Parameters: { \"scale_pos_weight\" } are not used.\n",
            "\n",
            "  warnings.warn(smsg, UserWarning)\n",
            "[I 2025-02-10 20:44:10,344] Trial 16 finished with value: 0.7418519023591982 and parameters: {'n_estimators': 241, 'learning_rate': 0.09553259398728885, 'max_depth': 3}. Best is trial 11 with value: 0.802672848765853.\n",
            "c:\\Users\\Aryan\\anaconda3\\Lib\\site-packages\\xgboost\\core.py:158: UserWarning: [20:44:10] WARNING: C:\\buildkite-agent\\builds\\buildkite-windows-cpu-autoscaling-group-i-0c55ff5f71b100e98-1\\xgboost\\xgboost-ci-windows\\src\\learner.cc:740: \n",
            "Parameters: { \"scale_pos_weight\" } are not used.\n",
            "\n",
            "  warnings.warn(smsg, UserWarning)\n",
            "[I 2025-02-10 20:45:14,716] Trial 17 finished with value: 0.7141688258557207 and parameters: {'n_estimators': 262, 'learning_rate': 0.024501673123720646, 'max_depth': 6}. Best is trial 11 with value: 0.802672848765853.\n",
            "c:\\Users\\Aryan\\anaconda3\\Lib\\site-packages\\xgboost\\core.py:158: UserWarning: [20:45:14] WARNING: C:\\buildkite-agent\\builds\\buildkite-windows-cpu-autoscaling-group-i-0c55ff5f71b100e98-1\\xgboost\\xgboost-ci-windows\\src\\learner.cc:740: \n",
            "Parameters: { \"scale_pos_weight\" } are not used.\n",
            "\n",
            "  warnings.warn(smsg, UserWarning)\n",
            "[I 2025-02-10 20:45:36,042] Trial 18 finished with value: 0.6500750034092458 and parameters: {'n_estimators': 155, 'learning_rate': 0.016190068106297913, 'max_depth': 4}. Best is trial 11 with value: 0.802672848765853.\n",
            "c:\\Users\\Aryan\\anaconda3\\Lib\\site-packages\\xgboost\\core.py:158: UserWarning: [20:45:36] WARNING: C:\\buildkite-agent\\builds\\buildkite-windows-cpu-autoscaling-group-i-0c55ff5f71b100e98-1\\xgboost\\xgboost-ci-windows\\src\\learner.cc:740: \n",
            "Parameters: { \"scale_pos_weight\" } are not used.\n",
            "\n",
            "  warnings.warn(smsg, UserWarning)\n",
            "[I 2025-02-10 20:46:39,751] Trial 19 finished with value: 0.801309150415928 and parameters: {'n_estimators': 215, 'learning_rate': 0.0998163275657481, 'max_depth': 8}. Best is trial 11 with value: 0.802672848765853.\n",
            "c:\\Users\\Aryan\\anaconda3\\Lib\\site-packages\\xgboost\\core.py:158: UserWarning: [20:46:39] WARNING: C:\\buildkite-agent\\builds\\buildkite-windows-cpu-autoscaling-group-i-0c55ff5f71b100e98-1\\xgboost\\xgboost-ci-windows\\src\\learner.cc:740: \n",
            "Parameters: { \"scale_pos_weight\" } are not used.\n",
            "\n",
            "  warnings.warn(smsg, UserWarning)\n",
            "[I 2025-02-10 20:47:03,958] Trial 20 finished with value: 0.6761216418928133 and parameters: {'n_estimators': 53, 'learning_rate': 0.04408527559819885, 'max_depth': 8}. Best is trial 11 with value: 0.802672848765853.\n",
            "c:\\Users\\Aryan\\anaconda3\\Lib\\site-packages\\xgboost\\core.py:158: UserWarning: [20:47:04] WARNING: C:\\buildkite-agent\\builds\\buildkite-windows-cpu-autoscaling-group-i-0c55ff5f71b100e98-1\\xgboost\\xgboost-ci-windows\\src\\learner.cc:740: \n",
            "Parameters: { \"scale_pos_weight\" } are not used.\n",
            "\n",
            "  warnings.warn(smsg, UserWarning)\n",
            "[I 2025-02-10 20:47:57,070] Trial 21 finished with value: 0.7890358652666031 and parameters: {'n_estimators': 222, 'learning_rate': 0.092410683002772, 'max_depth': 7}. Best is trial 11 with value: 0.802672848765853.\n",
            "c:\\Users\\Aryan\\anaconda3\\Lib\\site-packages\\xgboost\\core.py:158: UserWarning: [20:47:57] WARNING: C:\\buildkite-agent\\builds\\buildkite-windows-cpu-autoscaling-group-i-0c55ff5f71b100e98-1\\xgboost\\xgboost-ci-windows\\src\\learner.cc:740: \n",
            "Parameters: { \"scale_pos_weight\" } are not used.\n",
            "\n",
            "  warnings.warn(smsg, UserWarning)\n",
            "[I 2025-02-10 20:49:22,343] Trial 22 finished with value: 0.7669439519978181 and parameters: {'n_estimators': 275, 'learning_rate': 0.04631410716625151, 'max_depth': 8}. Best is trial 11 with value: 0.802672848765853.\n",
            "c:\\Users\\Aryan\\anaconda3\\Lib\\site-packages\\xgboost\\core.py:158: UserWarning: [20:49:22] WARNING: C:\\buildkite-agent\\builds\\buildkite-windows-cpu-autoscaling-group-i-0c55ff5f71b100e98-1\\xgboost\\xgboost-ci-windows\\src\\learner.cc:740: \n",
            "Parameters: { \"scale_pos_weight\" } are not used.\n",
            "\n",
            "  warnings.warn(smsg, UserWarning)\n",
            "[I 2025-02-10 20:51:13,142] Trial 23 finished with value: 0.6813036956225283 and parameters: {'n_estimators': 179, 'learning_rate': 0.012545532984895684, 'max_depth': 9}. Best is trial 11 with value: 0.802672848765853.\n",
            "c:\\Users\\Aryan\\anaconda3\\Lib\\site-packages\\xgboost\\core.py:158: UserWarning: [20:51:13] WARNING: C:\\buildkite-agent\\builds\\buildkite-windows-cpu-autoscaling-group-i-0c55ff5f71b100e98-1\\xgboost\\xgboost-ci-windows\\src\\learner.cc:740: \n",
            "Parameters: { \"scale_pos_weight\" } are not used.\n",
            "\n",
            "  warnings.warn(smsg, UserWarning)\n",
            "[I 2025-02-10 20:52:07,276] Trial 24 finished with value: 0.7880812764216555 and parameters: {'n_estimators': 278, 'learning_rate': 0.0835633933191955, 'max_depth': 6}. Best is trial 11 with value: 0.802672848765853.\n",
            "c:\\Users\\Aryan\\anaconda3\\Lib\\site-packages\\xgboost\\core.py:158: UserWarning: [20:52:07] WARNING: C:\\buildkite-agent\\builds\\buildkite-windows-cpu-autoscaling-group-i-0c55ff5f71b100e98-1\\xgboost\\xgboost-ci-windows\\src\\learner.cc:740: \n",
            "Parameters: { \"scale_pos_weight\" } are not used.\n",
            "\n",
            "  warnings.warn(smsg, UserWarning)\n",
            "[I 2025-02-10 20:53:32,838] Trial 25 finished with value: 0.6473476067093958 and parameters: {'n_estimators': 234, 'learning_rate': 0.0031124518362777207, 'max_depth': 7}. Best is trial 11 with value: 0.802672848765853.\n",
            "c:\\Users\\Aryan\\anaconda3\\Lib\\site-packages\\xgboost\\core.py:158: UserWarning: [20:53:32] WARNING: C:\\buildkite-agent\\builds\\buildkite-windows-cpu-autoscaling-group-i-0c55ff5f71b100e98-1\\xgboost\\xgboost-ci-windows\\src\\learner.cc:740: \n",
            "Parameters: { \"scale_pos_weight\" } are not used.\n",
            "\n",
            "  warnings.warn(smsg, UserWarning)\n",
            "[I 2025-02-10 20:55:00,763] Trial 26 finished with value: 0.7361243692895132 and parameters: {'n_estimators': 202, 'learning_rate': 0.034478248327545945, 'max_depth': 9}. Best is trial 11 with value: 0.802672848765853.\n",
            "c:\\Users\\Aryan\\anaconda3\\Lib\\site-packages\\xgboost\\core.py:158: UserWarning: [20:55:00] WARNING: C:\\buildkite-agent\\builds\\buildkite-windows-cpu-autoscaling-group-i-0c55ff5f71b100e98-1\\xgboost\\xgboost-ci-windows\\src\\learner.cc:740: \n",
            "Parameters: { \"scale_pos_weight\" } are not used.\n",
            "\n",
            "  warnings.warn(smsg, UserWarning)\n",
            "[I 2025-02-10 20:56:56,443] Trial 27 finished with value: 0.6972589663166507 and parameters: {'n_estimators': 278, 'learning_rate': 0.012495885009891931, 'max_depth': 8}. Best is trial 11 with value: 0.802672848765853.\n",
            "c:\\Users\\Aryan\\anaconda3\\Lib\\site-packages\\xgboost\\core.py:158: UserWarning: [20:56:56] WARNING: C:\\buildkite-agent\\builds\\buildkite-windows-cpu-autoscaling-group-i-0c55ff5f71b100e98-1\\xgboost\\xgboost-ci-windows\\src\\learner.cc:740: \n",
            "Parameters: { \"scale_pos_weight\" } are not used.\n",
            "\n",
            "  warnings.warn(smsg, UserWarning)\n",
            "[I 2025-02-10 20:57:31,582] Trial 28 finished with value: 0.7268512205100232 and parameters: {'n_estimators': 161, 'learning_rate': 0.05653812133625438, 'max_depth': 6}. Best is trial 11 with value: 0.802672848765853.\n",
            "c:\\Users\\Aryan\\anaconda3\\Lib\\site-packages\\xgboost\\core.py:158: UserWarning: [20:57:31] WARNING: C:\\buildkite-agent\\builds\\buildkite-windows-cpu-autoscaling-group-i-0c55ff5f71b100e98-1\\xgboost\\xgboost-ci-windows\\src\\learner.cc:740: \n",
            "Parameters: { \"scale_pos_weight\" } are not used.\n",
            "\n",
            "  warnings.warn(smsg, UserWarning)\n",
            "[I 2025-02-10 20:57:47,277] Trial 29 finished with value: 0.6703941088231283 and parameters: {'n_estimators': 127, 'learning_rate': 0.03196713599871133, 'max_depth': 4}. Best is trial 11 with value: 0.802672848765853.\n",
            "c:\\Users\\Aryan\\anaconda3\\Lib\\site-packages\\xgboost\\core.py:158: UserWarning: [20:57:49] WARNING: C:\\buildkite-agent\\builds\\buildkite-windows-cpu-autoscaling-group-i-0c55ff5f71b100e98-1\\xgboost\\xgboost-ci-windows\\src\\learner.cc:740: \n",
            "Parameters: { \"scale_pos_weight\" } are not used.\n",
            "\n",
            "  warnings.warn(smsg, UserWarning)\n",
            "2025/02/10 20:59:25 WARNING mlflow.models.model: Model logged without a signature and input example. Please set `input_example` parameter when logging the model to auto infer the model signature.\n"
          ]
        },
        {
          "name": "stdout",
          "output_type": "stream",
          "text": [
            "🏃 View run XGBoost_ClassWeights_TFIDF_Trigrams at: https://dagshub.com/aryan0147/Capstone-Project-2.mlflow/#/experiments/12/runs/8295bfb8ec45433bb2758802f5fdcf04\n",
            "🧪 View experiment at: https://dagshub.com/aryan0147/Capstone-Project-2.mlflow/#/experiments/12\n"
          ]
        }
      ],
      "source": [
        "import mlflow\n",
        "import optuna\n",
        "import numpy as np\n",
        "import pandas as pd\n",
        "from xgboost import XGBClassifier\n",
        "from sklearn.feature_extraction.text import TfidfVectorizer\n",
        "from sklearn.model_selection import train_test_split\n",
        "from sklearn.utils.class_weight import compute_class_weight\n",
        "from sklearn.metrics import accuracy_score, classification_report\n",
        "\n",
        "# Step 1: Remap the class labels from [-1, 0, 1] to [2, 0, 1]\n",
        "df['category'] = df['category'].map({-1: 2, 0: 0, 1: 1})\n",
        "\n",
        "# Step 2: Remove rows where the target labels (category) are NaN\n",
        "df = df.dropna(subset=['category'])\n",
        "\n",
        "ngram_range = (1, 3)  # Trigram setting\n",
        "max_features = 10000  # Set max_features to 1000 for TF-IDF\n",
        "\n",
        "# **Step 3: Train-test split BEFORE any class balancing (Prevents Data Leakage)**\n",
        "X_train, X_test, y_train, y_test = train_test_split(\n",
        "    df['clean_comment'], df['category'], test_size=0.2, random_state=42, stratify=df['category']\n",
        ")\n",
        "\n",
        "# **Step 4: Fit TF-IDF only on training data**\n",
        "vectorizer = TfidfVectorizer(ngram_range=ngram_range, max_features=max_features)\n",
        "X_train_vec = vectorizer.fit_transform(X_train)  # Fit only on training data\n",
        "X_test_vec = vectorizer.transform(X_test)  # Transform test data without refitting\n",
        "\n",
        "# **Step 5: Compute Class Weights Instead of SMOTE**\n",
        "unique_classes, class_counts = np.unique(y_train, return_counts=True)\n",
        "class_weights = class_counts.sum() / (len(unique_classes) * class_counts)  # Compute scale_pos_weight\n",
        "class_weight_dict = {cls: weight for cls, weight in zip(unique_classes, class_weights)}\n",
        "\n",
        "# Function to log results in MLflow\n",
        "def log_mlflow(model_name, model, X_train, X_test, y_train, y_test):\n",
        "    with mlflow.start_run():\n",
        "        mlflow.set_tag(\"mlflow.runName\", f\"{model_name}_ClassWeights_TFIDF_Trigrams\")\n",
        "        mlflow.set_tag(\"experiment_type\", \"algorithm_comparison\")\n",
        "\n",
        "        # Log algorithm name as a parameter\n",
        "        mlflow.log_param(\"algo_name\", model_name)\n",
        "\n",
        "        # Train model\n",
        "        model.fit(X_train, y_train)\n",
        "\n",
        "        # Make predictions\n",
        "        y_pred = model.predict(X_test)\n",
        "\n",
        "        # Log accuracy\n",
        "        accuracy = accuracy_score(y_test, y_pred)\n",
        "        mlflow.log_metric(\"accuracy\", accuracy)\n",
        "\n",
        "        # Log classification report\n",
        "        classification_rep = classification_report(y_test, y_pred, output_dict=True)\n",
        "        for label, metrics in classification_rep.items():\n",
        "            if isinstance(metrics, dict):\n",
        "                for metric, value in metrics.items():\n",
        "                    mlflow.log_metric(f\"{label}_{metric}\", value)\n",
        "\n",
        "        # Log the model\n",
        "        mlflow.sklearn.log_model(model, f\"{model_name}_model\")\n",
        "\n",
        "# Step 6: Optuna objective function for XGBoost\n",
        "def objective_xgboost(trial):\n",
        "    n_estimators = trial.suggest_int('n_estimators', 50, 300)\n",
        "    learning_rate = trial.suggest_float('learning_rate', 1e-4, 1e-1, log=True)\n",
        "    max_depth = trial.suggest_int('max_depth', 3, 10)\n",
        "\n",
        "    # Compute class weight for XGBoost using scale_pos_weight\n",
        "    scale_pos_weight = class_weights[1]  # Assuming class 1 is the minority class\n",
        "\n",
        "    model = XGBClassifier(\n",
        "        n_estimators=n_estimators, learning_rate=learning_rate, max_depth=max_depth,\n",
        "        scale_pos_weight=scale_pos_weight, random_state=42\n",
        "    )\n",
        "\n",
        "    # Fit and evaluate the model\n",
        "    model.fit(X_train_vec, y_train)\n",
        "    y_pred = model.predict(X_test_vec)\n",
        "    return accuracy_score(y_test, y_pred)\n",
        "\n",
        "# Step 7: Run Optuna for XGBoost, log the best model only\n",
        "def run_optuna_experiment():\n",
        "    study = optuna.create_study(direction=\"maximize\")\n",
        "    study.optimize(objective_xgboost, n_trials=30)\n",
        "\n",
        "    # Get the best parameters and log only the best model\n",
        "    best_params = study.best_params\n",
        "    best_model = XGBClassifier(\n",
        "        n_estimators=best_params['n_estimators'], learning_rate=best_params['learning_rate'],\n",
        "        max_depth=best_params['max_depth'], scale_pos_weight=class_weights[1], random_state=42\n",
        "    )\n",
        "\n",
        "    # Log the best model with MLflow\n",
        "    log_mlflow(\"XGBoost\", best_model, X_train_vec, X_test_vec, y_train, y_test)\n",
        "\n",
        "# Run the experiment for XGBoost\n",
        "run_optuna_experiment()\n"
      ]
    },
    {
      "cell_type": "code",
      "execution_count": null,
      "metadata": {},
      "outputs": [],
      "source": []
    }
  ],
  "metadata": {
    "colab": {
      "provenance": []
    },
    "kernelspec": {
      "display_name": "base",
      "language": "python",
      "name": "python3"
    },
    "language_info": {
      "codemirror_mode": {
        "name": "ipython",
        "version": 3
      },
      "file_extension": ".py",
      "mimetype": "text/x-python",
      "name": "python",
      "nbconvert_exporter": "python",
      "pygments_lexer": "ipython3",
      "version": "3.12.7"
    }
  },
  "nbformat": 4,
  "nbformat_minor": 0
}
