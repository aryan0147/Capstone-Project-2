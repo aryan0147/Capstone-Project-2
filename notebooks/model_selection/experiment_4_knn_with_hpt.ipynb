{
  "cells": [
    {
      "cell_type": "code",
      "execution_count": 1,
      "metadata": {
        "id": "Kw7oYTl0IZbv"
      },
      "outputs": [
        {
          "data": {
            "text/html": [
              "<pre style=\"white-space:pre;overflow-x:auto;line-height:normal;font-family:Menlo,'DejaVu Sans Mono',consolas,'Courier New',monospace\">Accessing as aryan0147\n",
              "</pre>\n"
            ],
            "text/plain": [
              "Accessing as aryan0147\n"
            ]
          },
          "metadata": {},
          "output_type": "display_data"
        },
        {
          "data": {
            "text/html": [
              "<pre style=\"white-space:pre;overflow-x:auto;line-height:normal;font-family:Menlo,'DejaVu Sans Mono',consolas,'Courier New',monospace\">Initialized MLflow to track repo <span style=\"color: #008000; text-decoration-color: #008000\">\"aryan0147/Capstone-Project-2\"</span>\n",
              "</pre>\n"
            ],
            "text/plain": [
              "Initialized MLflow to track repo \u001b[32m\"aryan0147/Capstone-Project-2\"\u001b[0m\n"
            ]
          },
          "metadata": {},
          "output_type": "display_data"
        },
        {
          "data": {
            "text/html": [
              "<pre style=\"white-space:pre;overflow-x:auto;line-height:normal;font-family:Menlo,'DejaVu Sans Mono',consolas,'Courier New',monospace\">Repository aryan0147/Capstone-Project-<span style=\"color: #008080; text-decoration-color: #008080; font-weight: bold\">2</span> initialized!\n",
              "</pre>\n"
            ],
            "text/plain": [
              "Repository aryan0147/Capstone-Project-\u001b[1;36m2\u001b[0m initialized!\n"
            ]
          },
          "metadata": {},
          "output_type": "display_data"
        }
      ],
      "source": [
        "import dagshub\n",
        "import mlflow\n",
        "mlflow.set_tracking_uri(\"https://dagshub.com/aryan0147/Capstone-Project-2.mlflow\")\n",
        "\n",
        "dagshub.init(repo_owner='aryan0147', repo_name='Capstone-Project-2', mlflow=True)"
      ]
    },
    {
      "cell_type": "code",
      "execution_count": 2,
      "metadata": {
        "colab": {
          "base_uri": "https://localhost:8080/"
        },
        "id": "Ugx9_tDfIiLo",
        "outputId": "71e7b70d-7650-4212-c962-b6376e24f277"
      },
      "outputs": [
        {
          "data": {
            "text/plain": [
              "<Experiment: artifact_location='mlflow-artifacts:/d43192cc72bb48deb03d07938721755b', creation_time=1739197271560, experiment_id='12', last_update_time=1739197271560, lifecycle_stage='active', name='ML-Algos', tags={}>"
            ]
          },
          "execution_count": 2,
          "metadata": {},
          "output_type": "execute_result"
        }
      ],
      "source": [
        "# Set or create an experiment\n",
        "mlflow.set_experiment(\"ML-Algos\")"
      ]
    },
    {
      "cell_type": "code",
      "execution_count": 3,
      "metadata": {
        "id": "F9_HfxWfIkAj"
      },
      "outputs": [],
      "source": [
        "import pandas as pd\n",
        "from sklearn.feature_extraction.text import TfidfVectorizer\n",
        "from sklearn.model_selection import train_test_split\n",
        "from sklearn.neighbors import KNeighborsClassifier\n",
        "from sklearn.metrics import accuracy_score, classification_report\n",
        "from imblearn.over_sampling import SMOTE\n",
        "import mlflow\n",
        "import mlflow.sklearn\n",
        "import optuna\n"
      ]
    },
    {
      "cell_type": "code",
      "execution_count": 4,
      "metadata": {
        "colab": {
          "base_uri": "https://localhost:8080/"
        },
        "id": "im6XaJ6UI1cR",
        "outputId": "bb32e67d-d93e-49cb-f90e-4f7a2237c26d"
      },
      "outputs": [
        {
          "data": {
            "text/plain": [
              "(36662, 2)"
            ]
          },
          "execution_count": 4,
          "metadata": {},
          "output_type": "execute_result"
        }
      ],
      "source": [
        "df = pd.read_csv('../reddit_preprocessing.csv').dropna()\n",
        "df.shape"
      ]
    },
    {
      "cell_type": "code",
      "execution_count": 6,
      "metadata": {
        "colab": {
          "base_uri": "https://localhost:8080/"
        },
        "id": "zCvg5CqbI6o4",
        "outputId": "f33c073a-f1c5-4c17-ffc0-632fe0abfd72"
      },
      "outputs": [
        {
          "name": "stderr",
          "output_type": "stream",
          "text": [
            "[I 2025-02-10 20:10:27,889] A new study created in memory with name: no-name-7f5e9937-3617-47e1-9248-e1ddd8f97458\n",
            "[I 2025-02-10 20:10:31,196] Trial 0 finished with value: 0.3683349243147416 and parameters: {'n_neighbors': 6, 'p': 1}. Best is trial 0 with value: 0.3683349243147416.\n",
            "[I 2025-02-10 20:10:36,544] Trial 1 finished with value: 0.37542615573435156 and parameters: {'n_neighbors': 13, 'p': 2}. Best is trial 1 with value: 0.37542615573435156.\n",
            "[I 2025-02-10 20:10:41,754] Trial 2 finished with value: 0.3950634119732715 and parameters: {'n_neighbors': 6, 'p': 2}. Best is trial 2 with value: 0.3950634119732715.\n",
            "[I 2025-02-10 20:10:45,414] Trial 3 finished with value: 0.3496522569207691 and parameters: {'n_neighbors': 26, 'p': 1}. Best is trial 2 with value: 0.3950634119732715.\n",
            "[I 2025-02-10 20:10:48,454] Trial 4 finished with value: 0.3578344470203191 and parameters: {'n_neighbors': 13, 'p': 1}. Best is trial 2 with value: 0.3950634119732715.\n",
            "[I 2025-02-10 20:10:53,744] Trial 5 finished with value: 0.3516978044456566 and parameters: {'n_neighbors': 28, 'p': 2}. Best is trial 2 with value: 0.3950634119732715.\n",
            "[I 2025-02-10 20:10:59,084] Trial 6 finished with value: 0.3521069139506341 and parameters: {'n_neighbors': 25, 'p': 2}. Best is trial 2 with value: 0.3950634119732715.\n",
            "[I 2025-02-10 20:11:02,725] Trial 7 finished with value: 0.3523796536206191 and parameters: {'n_neighbors': 20, 'p': 1}. Best is trial 2 with value: 0.3950634119732715.\n",
            "[I 2025-02-10 20:11:07,978] Trial 8 finished with value: 0.3516978044456566 and parameters: {'n_neighbors': 28, 'p': 2}. Best is trial 2 with value: 0.3950634119732715.\n",
            "[I 2025-02-10 20:11:13,164] Trial 9 finished with value: 0.35074321560070915 and parameters: {'n_neighbors': 24, 'p': 2}. Best is trial 2 with value: 0.3950634119732715.\n",
            "[I 2025-02-10 20:11:18,624] Trial 10 finished with value: 0.41006409382244646 and parameters: {'n_neighbors': 4, 'p': 2}. Best is trial 10 with value: 0.41006409382244646.\n",
            "[I 2025-02-10 20:11:23,335] Trial 11 finished with value: 0.4294286103913814 and parameters: {'n_neighbors': 3, 'p': 2}. Best is trial 11 with value: 0.4294286103913814.\n",
            "[I 2025-02-10 20:11:28,190] Trial 12 finished with value: 0.4294286103913814 and parameters: {'n_neighbors': 3, 'p': 2}. Best is trial 11 with value: 0.4294286103913814.\n",
            "[I 2025-02-10 20:11:33,161] Trial 13 finished with value: 0.37828992226919406 and parameters: {'n_neighbors': 10, 'p': 2}. Best is trial 11 with value: 0.4294286103913814.\n",
            "[I 2025-02-10 20:11:37,708] Trial 14 finished with value: 0.4294286103913814 and parameters: {'n_neighbors': 3, 'p': 2}. Best is trial 11 with value: 0.4294286103913814.\n",
            "[I 2025-02-10 20:11:42,817] Trial 15 finished with value: 0.391381426428474 and parameters: {'n_neighbors': 9, 'p': 2}. Best is trial 11 with value: 0.4294286103913814.\n",
            "[I 2025-02-10 20:11:48,060] Trial 16 finished with value: 0.3582435565252966 and parameters: {'n_neighbors': 18, 'p': 2}. Best is trial 11 with value: 0.4294286103913814.\n",
            "[I 2025-02-10 20:11:53,446] Trial 17 finished with value: 0.391381426428474 and parameters: {'n_neighbors': 9, 'p': 2}. Best is trial 11 with value: 0.4294286103913814.\n",
            "[I 2025-02-10 20:11:56,716] Trial 18 finished with value: 0.35647074867039413 and parameters: {'n_neighbors': 14, 'p': 1}. Best is trial 11 with value: 0.4294286103913814.\n",
            "[I 2025-02-10 20:12:00,646] Trial 19 finished with value: 0.4294286103913814 and parameters: {'n_neighbors': 3, 'p': 2}. Best is trial 11 with value: 0.4294286103913814.\n",
            "[I 2025-02-10 20:12:05,525] Trial 20 finished with value: 0.4010636847129415 and parameters: {'n_neighbors': 7, 'p': 2}. Best is trial 11 with value: 0.4294286103913814.\n",
            "[I 2025-02-10 20:12:09,699] Trial 21 finished with value: 0.4294286103913814 and parameters: {'n_neighbors': 3, 'p': 2}. Best is trial 11 with value: 0.4294286103913814.\n",
            "[I 2025-02-10 20:12:16,174] Trial 22 finished with value: 0.41292786035728896 and parameters: {'n_neighbors': 5, 'p': 2}. Best is trial 11 with value: 0.4294286103913814.\n",
            "[I 2025-02-10 20:12:22,610] Trial 23 finished with value: 0.37828992226919406 and parameters: {'n_neighbors': 10, 'p': 2}. Best is trial 11 with value: 0.4294286103913814.\n",
            "[I 2025-02-10 20:12:28,714] Trial 24 finished with value: 0.4010636847129415 and parameters: {'n_neighbors': 7, 'p': 2}. Best is trial 11 with value: 0.4294286103913814.\n",
            "[I 2025-02-10 20:12:33,793] Trial 25 finished with value: 0.4294286103913814 and parameters: {'n_neighbors': 3, 'p': 2}. Best is trial 11 with value: 0.4294286103913814.\n",
            "[I 2025-02-10 20:12:37,280] Trial 26 finished with value: 0.3617891722351016 and parameters: {'n_neighbors': 8, 'p': 1}. Best is trial 11 with value: 0.4294286103913814.\n",
            "[I 2025-02-10 20:12:43,232] Trial 27 finished with value: 0.38183553797899905 and parameters: {'n_neighbors': 11, 'p': 2}. Best is trial 11 with value: 0.4294286103913814.\n",
            "[I 2025-02-10 20:12:49,548] Trial 28 finished with value: 0.41292786035728896 and parameters: {'n_neighbors': 5, 'p': 2}. Best is trial 11 with value: 0.4294286103913814.\n",
            "[I 2025-02-10 20:12:52,974] Trial 29 finished with value: 0.3516978044456566 and parameters: {'n_neighbors': 21, 'p': 1}. Best is trial 11 with value: 0.4294286103913814.\n",
            "2025/02/10 20:13:14 WARNING mlflow.models.model: Model logged without a signature and input example. Please set `input_example` parameter when logging the model to auto infer the model signature.\n"
          ]
        },
        {
          "name": "stdout",
          "output_type": "stream",
          "text": [
            "🏃 View run KNN_SMOTE_TFIDF_Trigrams at: https://dagshub.com/aryan0147/Capstone-Project-2.mlflow/#/experiments/12/runs/e69aca3320094f53898205ece3408688\n",
            "🧪 View experiment at: https://dagshub.com/aryan0147/Capstone-Project-2.mlflow/#/experiments/12\n"
          ]
        }
      ],
      "source": [
        "import mlflow\n",
        "import optuna\n",
        "import numpy as np\n",
        "import pandas as pd\n",
        "from imblearn.over_sampling import SMOTE\n",
        "from sklearn.feature_extraction.text import TfidfVectorizer\n",
        "from sklearn.model_selection import train_test_split\n",
        "from sklearn.neighbors import KNeighborsClassifier\n",
        "from sklearn.metrics import accuracy_score, classification_report\n",
        "\n",
        "# Step 1: Remove rows where the target labels (category) are NaN\n",
        "df = df.dropna(subset=['category'])\n",
        "\n",
        "# Step 2: TF-IDF vectorization setup\n",
        "ngram_range = (1, 3)  # Trigram\n",
        "max_features = 10000  # Max features for TF-IDF\n",
        "vectorizer = TfidfVectorizer(ngram_range=ngram_range, max_features=max_features)\n",
        "\n",
        "# **Step 3: Train-test split BEFORE applying SMOTE (Prevents Data Leakage)**\n",
        "X_train, X_test, y_train, y_test = train_test_split(\n",
        "    df['clean_comment'], df['category'], test_size=0.2, random_state=42, stratify=df['category']\n",
        ")\n",
        "\n",
        "# **Step 4: Fit TF-IDF only on training data**\n",
        "X_train_vec = vectorizer.fit_transform(X_train)  # Fit only on training data\n",
        "X_test_vec = vectorizer.transform(X_test)  # Transform test data without refitting\n",
        "\n",
        "# **Step 5: Apply SMOTE on the training set only (Prevents Data Leakage)**\n",
        "smote = SMOTE(random_state=42)\n",
        "X_train_resampled, y_train_resampled = smote.fit_resample(X_train_vec, y_train)\n",
        "\n",
        "# Function to log results in MLflow\n",
        "def log_mlflow(model_name, model, X_train, X_test, y_train, y_test):\n",
        "    with mlflow.start_run():\n",
        "        mlflow.set_tag(\"mlflow.runName\", f\"{model_name}_SMOTE_TFIDF_Trigrams\")\n",
        "        mlflow.set_tag(\"experiment_type\", \"algorithm_comparison\")\n",
        "\n",
        "        # Log algorithm name as a parameter\n",
        "        mlflow.log_param(\"algo_name\", model_name)\n",
        "\n",
        "        # Train model\n",
        "        model.fit(X_train, y_train)\n",
        "\n",
        "        # Make predictions\n",
        "        y_pred = model.predict(X_test)\n",
        "\n",
        "        # Log accuracy\n",
        "        accuracy = accuracy_score(y_test, y_pred)\n",
        "        mlflow.log_metric(\"accuracy\", accuracy)\n",
        "\n",
        "        # Log classification report\n",
        "        classification_rep = classification_report(y_test, y_pred, output_dict=True)\n",
        "        for label, metrics in classification_rep.items():\n",
        "            if isinstance(metrics, dict):\n",
        "                for metric, value in metrics.items():\n",
        "                    mlflow.log_metric(f\"{label}_{metric}\", value)\n",
        "\n",
        "        # Log the model\n",
        "        mlflow.sklearn.log_model(model, f\"{model_name}_model\")\n",
        "\n",
        "# Step 6: Optuna objective function for KNN\n",
        "def objective_knn(trial):\n",
        "    n_neighbors = trial.suggest_int('n_neighbors', 3, 30)  # Tuning the number of neighbors\n",
        "    p = trial.suggest_categorical('p', [1, 2])  # Tuning the distance metric (1 for Manhattan, 2 for Euclidean)\n",
        "\n",
        "    model = KNeighborsClassifier(n_neighbors=n_neighbors, p=p)\n",
        "    \n",
        "    # Fit KNN using SMOTE-resampled dataset\n",
        "    model.fit(X_train_resampled, y_train_resampled)\n",
        "\n",
        "    # Evaluate accuracy\n",
        "    y_pred = model.predict(X_test_vec)\n",
        "    return accuracy_score(y_test, y_pred)\n",
        "\n",
        "# Step 7: Run Optuna for KNN, log the best model only\n",
        "def run_optuna_experiment():\n",
        "    study = optuna.create_study(direction=\"maximize\")\n",
        "    study.optimize(objective_knn, n_trials=30)\n",
        "\n",
        "    # Get the best parameters and log only the best model\n",
        "    best_params = study.best_params\n",
        "    best_model = KNeighborsClassifier(n_neighbors=best_params['n_neighbors'], p=best_params['p'])\n",
        "\n",
        "    # Log the best model with MLflow\n",
        "    log_mlflow(\"KNN\", best_model, X_train_resampled, X_test_vec, y_train_resampled, y_test)\n",
        "\n",
        "# Run the experiment for KNN\n",
        "run_optuna_experiment()\n"
      ]
    },
    {
      "cell_type": "code",
      "execution_count": null,
      "metadata": {
        "id": "S71Y2_gfJA_H"
      },
      "outputs": [],
      "source": []
    }
  ],
  "metadata": {
    "colab": {
      "provenance": []
    },
    "kernelspec": {
      "display_name": "base",
      "language": "python",
      "name": "python3"
    },
    "language_info": {
      "codemirror_mode": {
        "name": "ipython",
        "version": 3
      },
      "file_extension": ".py",
      "mimetype": "text/x-python",
      "name": "python",
      "nbconvert_exporter": "python",
      "pygments_lexer": "ipython3",
      "version": "3.12.7"
    }
  },
  "nbformat": 4,
  "nbformat_minor": 0
}
