{
  "cells": [
    {
      "cell_type": "code",
      "execution_count": 1,
      "metadata": {
        "id": "FitSe4YqLphs"
      },
      "outputs": [
        {
          "data": {
            "text/html": [
              "<pre style=\"white-space:pre;overflow-x:auto;line-height:normal;font-family:Menlo,'DejaVu Sans Mono',consolas,'Courier New',monospace\">Accessing as aryan0147\n",
              "</pre>\n"
            ],
            "text/plain": [
              "Accessing as aryan0147\n"
            ]
          },
          "metadata": {},
          "output_type": "display_data"
        },
        {
          "data": {
            "text/html": [
              "<pre style=\"white-space:pre;overflow-x:auto;line-height:normal;font-family:Menlo,'DejaVu Sans Mono',consolas,'Courier New',monospace\">Initialized MLflow to track repo <span style=\"color: #008000; text-decoration-color: #008000\">\"aryan0147/Capstone-Project-2\"</span>\n",
              "</pre>\n"
            ],
            "text/plain": [
              "Initialized MLflow to track repo \u001b[32m\"aryan0147/Capstone-Project-2\"\u001b[0m\n"
            ]
          },
          "metadata": {},
          "output_type": "display_data"
        },
        {
          "data": {
            "text/html": [
              "<pre style=\"white-space:pre;overflow-x:auto;line-height:normal;font-family:Menlo,'DejaVu Sans Mono',consolas,'Courier New',monospace\">Repository aryan0147/Capstone-Project-<span style=\"color: #008080; text-decoration-color: #008080; font-weight: bold\">2</span> initialized!\n",
              "</pre>\n"
            ],
            "text/plain": [
              "Repository aryan0147/Capstone-Project-\u001b[1;36m2\u001b[0m initialized!\n"
            ]
          },
          "metadata": {},
          "output_type": "display_data"
        }
      ],
      "source": [
        "import dagshub\n",
        "import mlflow\n",
        "mlflow.set_tracking_uri(\"https://dagshub.com/aryan0147/Capstone-Project-2.mlflow\")\n",
        "\n",
        "dagshub.init(repo_owner='aryan0147', repo_name='Capstone-Project-2', mlflow=True)"
      ]
    },
    {
      "cell_type": "code",
      "execution_count": 2,
      "metadata": {
        "colab": {
          "base_uri": "https://localhost:8080/"
        },
        "id": "hTA0BVtYL1h8",
        "outputId": "3c064ce9-1686-4fe7-f4c5-c3ff76d1d828"
      },
      "outputs": [
        {
          "data": {
            "text/plain": [
              "<Experiment: artifact_location='mlflow-artifacts:/d43192cc72bb48deb03d07938721755b', creation_time=1739197271560, experiment_id='12', last_update_time=1739197271560, lifecycle_stage='active', name='ML-Algos', tags={}>"
            ]
          },
          "execution_count": 2,
          "metadata": {},
          "output_type": "execute_result"
        }
      ],
      "source": [
        "# Set or create an experiment\n",
        "mlflow.set_experiment(\"ML-Algos\")"
      ]
    },
    {
      "cell_type": "code",
      "execution_count": 3,
      "metadata": {
        "id": "yePqZe37L3yf"
      },
      "outputs": [],
      "source": [
        "import pandas as pd\n",
        "from sklearn.feature_extraction.text import TfidfVectorizer\n",
        "from sklearn.model_selection import train_test_split\n",
        "from sklearn.naive_bayes import MultinomialNB\n",
        "from sklearn.metrics import accuracy_score, classification_report\n",
        "from imblearn.over_sampling import SMOTE\n",
        "import mlflow\n",
        "import mlflow.sklearn\n",
        "import optuna\n"
      ]
    },
    {
      "cell_type": "code",
      "execution_count": 4,
      "metadata": {
        "colab": {
          "base_uri": "https://localhost:8080/"
        },
        "id": "Vf3mf2bjMGjf",
        "outputId": "ab993e9e-7f58-45a6-e4ad-9bb13d28230a"
      },
      "outputs": [
        {
          "data": {
            "text/plain": [
              "(36662, 2)"
            ]
          },
          "execution_count": 4,
          "metadata": {},
          "output_type": "execute_result"
        }
      ],
      "source": [
        "df = pd.read_csv('../reddit_preprocessing.csv').dropna()\n",
        "df.shape"
      ]
    },
    {
      "cell_type": "code",
      "execution_count": 6,
      "metadata": {
        "colab": {
          "base_uri": "https://localhost:8080/"
        },
        "id": "xhwie-MyMNNw",
        "outputId": "df8d178f-9922-4657-e844-d99b2dfa2c81"
      },
      "outputs": [
        {
          "name": "stderr",
          "output_type": "stream",
          "text": [
            "[I 2025-02-10 20:20:23,109] A new study created in memory with name: no-name-03cbdaea-f8f3-4e5f-99ad-619410fcd0ad\n",
            "[I 2025-02-10 20:20:23,124] Trial 0 finished with value: 0.6702577389881358 and parameters: {'alpha': 0.010568558316591196}. Best is trial 0 with value: 0.6702577389881358.\n",
            "[I 2025-02-10 20:20:23,131] Trial 1 finished with value: 0.6710759579980908 and parameters: {'alpha': 0.0004630880800846927}. Best is trial 1 with value: 0.6710759579980908.\n",
            "[I 2025-02-10 20:20:23,143] Trial 2 finished with value: 0.6706668484931133 and parameters: {'alpha': 0.007634314493688671}. Best is trial 1 with value: 0.6710759579980908.\n",
            "[I 2025-02-10 20:20:23,155] Trial 3 finished with value: 0.6652120550934133 and parameters: {'alpha': 0.22196072863689062}. Best is trial 1 with value: 0.6710759579980908.\n",
            "[I 2025-02-10 20:20:23,166] Trial 4 finished with value: 0.6668484931133233 and parameters: {'alpha': 0.17978580291215276}. Best is trial 1 with value: 0.6710759579980908.\n",
            "[I 2025-02-10 20:20:23,177] Trial 5 finished with value: 0.6705304786581209 and parameters: {'alpha': 0.0044651180944040615}. Best is trial 1 with value: 0.6710759579980908.\n",
            "[I 2025-02-10 20:20:23,185] Trial 6 finished with value: 0.6690304104732033 and parameters: {'alpha': 0.048798793601630024}. Best is trial 1 with value: 0.6710759579980908.\n",
            "[I 2025-02-10 20:20:23,198] Trial 7 finished with value: 0.6664393836083459 and parameters: {'alpha': 0.19976128833161721}. Best is trial 1 with value: 0.6710759579980908.\n",
            "[I 2025-02-10 20:20:23,206] Trial 8 finished with value: 0.6714850675030684 and parameters: {'alpha': 0.00014079522601663974}. Best is trial 8 with value: 0.6714850675030684.\n",
            "[I 2025-02-10 20:20:23,214] Trial 9 finished with value: 0.6682121914632483 and parameters: {'alpha': 0.07644570608536227}. Best is trial 8 with value: 0.6714850675030684.\n",
            "[I 2025-02-10 20:20:23,233] Trial 10 finished with value: 0.6714850675030684 and parameters: {'alpha': 0.00014348106023404862}. Best is trial 8 with value: 0.6714850675030684.\n",
            "[I 2025-02-10 20:20:23,244] Trial 11 finished with value: 0.6716214373380608 and parameters: {'alpha': 0.00016638438577031337}. Best is trial 11 with value: 0.6716214373380608.\n",
            "[I 2025-02-10 20:20:23,255] Trial 12 finished with value: 0.6713486976680758 and parameters: {'alpha': 0.0007605763703166928}. Best is trial 11 with value: 0.6716214373380608.\n",
            "[I 2025-02-10 20:20:23,264] Trial 13 finished with value: 0.6714850675030684 and parameters: {'alpha': 0.00014054975630107796}. Best is trial 11 with value: 0.6716214373380608.\n",
            "[I 2025-02-10 20:20:23,281] Trial 14 finished with value: 0.6712123278330833 and parameters: {'alpha': 0.0010089877986052837}. Best is trial 11 with value: 0.6716214373380608.\n",
            "[I 2025-02-10 20:20:23,292] Trial 15 finished with value: 0.6341197327151235 and parameters: {'alpha': 0.925703092291432}. Best is trial 11 with value: 0.6716214373380608.\n",
            "[I 2025-02-10 20:20:23,304] Trial 16 finished with value: 0.6709395881630983 and parameters: {'alpha': 0.0021184661065704385}. Best is trial 11 with value: 0.6716214373380608.\n",
            "[I 2025-02-10 20:20:23,317] Trial 17 finished with value: 0.6714850675030684 and parameters: {'alpha': 0.0002769903866886073}. Best is trial 11 with value: 0.6716214373380608.\n",
            "[I 2025-02-10 20:20:23,327] Trial 18 finished with value: 0.6714850675030684 and parameters: {'alpha': 0.00010879909112916082}. Best is trial 11 with value: 0.6716214373380608.\n",
            "[I 2025-02-10 20:20:23,346] Trial 19 finished with value: 0.6708032183281059 and parameters: {'alpha': 0.0017941519552162918}. Best is trial 11 with value: 0.6716214373380608.\n",
            "[I 2025-02-10 20:20:23,368] Trial 20 finished with value: 0.6713486976680758 and parameters: {'alpha': 0.0002954903915495156}. Best is trial 11 with value: 0.6716214373380608.\n",
            "[I 2025-02-10 20:20:23,383] Trial 21 finished with value: 0.6714850675030684 and parameters: {'alpha': 0.00011092300207333324}. Best is trial 11 with value: 0.6716214373380608.\n",
            "[I 2025-02-10 20:20:23,399] Trial 22 finished with value: 0.6714850675030684 and parameters: {'alpha': 0.0002764628266378833}. Best is trial 11 with value: 0.6716214373380608.\n",
            "[I 2025-02-10 20:20:23,416] Trial 23 finished with value: 0.6712123278330833 and parameters: {'alpha': 0.0005466336574282196}. Best is trial 11 with value: 0.6716214373380608.\n",
            "[I 2025-02-10 20:20:23,426] Trial 24 finished with value: 0.6713486976680758 and parameters: {'alpha': 0.00021953018059280095}. Best is trial 11 with value: 0.6716214373380608.\n",
            "[I 2025-02-10 20:20:23,437] Trial 25 finished with value: 0.6709395881630983 and parameters: {'alpha': 0.0014653664045257287}. Best is trial 11 with value: 0.6716214373380608.\n",
            "[I 2025-02-10 20:20:23,451] Trial 26 finished with value: 0.6710759579980908 and parameters: {'alpha': 0.00048826206353102343}. Best is trial 11 with value: 0.6716214373380608.\n",
            "[I 2025-02-10 20:20:23,466] Trial 27 finished with value: 0.6702577389881358 and parameters: {'alpha': 0.003973158437942996}. Best is trial 11 with value: 0.6716214373380608.\n",
            "[I 2025-02-10 20:20:23,479] Trial 28 finished with value: 0.6698486294831584 and parameters: {'alpha': 0.020464945195427027}. Best is trial 11 with value: 0.6716214373380608.\n",
            "[I 2025-02-10 20:20:23,500] Trial 29 finished with value: 0.6714850675030684 and parameters: {'alpha': 0.00018012541509053372}. Best is trial 11 with value: 0.6716214373380608.\n",
            "2025/02/10 20:20:44 WARNING mlflow.models.model: Model logged without a signature and input example. Please set `input_example` parameter when logging the model to auto infer the model signature.\n"
          ]
        },
        {
          "name": "stdout",
          "output_type": "stream",
          "text": [
            "🏃 View run MultinomialNB_ClassWeights_TFIDF_Trigrams at: https://dagshub.com/aryan0147/Capstone-Project-2.mlflow/#/experiments/12/runs/578fcd3cca4b4026a99f5d88e547762c\n",
            "🧪 View experiment at: https://dagshub.com/aryan0147/Capstone-Project-2.mlflow/#/experiments/12\n"
          ]
        }
      ],
      "source": [
        "import mlflow\n",
        "import optuna\n",
        "import numpy as np\n",
        "import pandas as pd\n",
        "from sklearn.feature_extraction.text import TfidfVectorizer\n",
        "from sklearn.model_selection import train_test_split\n",
        "from sklearn.naive_bayes import MultinomialNB\n",
        "from sklearn.metrics import accuracy_score, classification_report\n",
        "\n",
        "# Step 1: Remove rows where the target labels (category) are NaN\n",
        "df = df.dropna(subset=['category'])\n",
        "\n",
        "# Step 2: TF-IDF vectorization setup\n",
        "ngram_range = (1, 3)  # Trigram\n",
        "max_features = 10000  # Set max_features to 1000\n",
        "vectorizer = TfidfVectorizer(ngram_range=ngram_range, max_features=max_features)\n",
        "\n",
        "# **Step 3: Train-test split BEFORE any class balancing (Prevents Data Leakage)**\n",
        "X_train, X_test, y_train, y_test = train_test_split(\n",
        "    df['clean_comment'], df['category'], test_size=0.2, random_state=42, stratify=df['category']\n",
        ")\n",
        "\n",
        "# **Step 4: Fit TF-IDF only on training data**\n",
        "X_train_vec = vectorizer.fit_transform(X_train)  # Fit only on training data\n",
        "X_test_vec = vectorizer.transform(X_test)  # Transform test data without refitting\n",
        "\n",
        "# **Step 5: Compute Valid Class Priors Instead of SMOTE**\n",
        "unique_classes, class_counts = np.unique(y_train, return_counts=True)  # Ensure no negative values\n",
        "class_priors = class_counts / class_counts.sum()  # Convert counts into probabilities (sum to 1)\n",
        "class_prior_dict = dict(zip(unique_classes, class_priors))  # Dictionary mapping for reference\n",
        "\n",
        "# Function to log results in MLflow\n",
        "def log_mlflow(model_name, model, X_train, X_test, y_train, y_test):\n",
        "    with mlflow.start_run():\n",
        "        mlflow.set_tag(\"mlflow.runName\", f\"{model_name}_ClassWeights_TFIDF_Trigrams\")\n",
        "        mlflow.set_tag(\"experiment_type\", \"algorithm_comparison\")\n",
        "\n",
        "        # Log algorithm name as a parameter\n",
        "        mlflow.log_param(\"algo_name\", model_name)\n",
        "\n",
        "        # Train model\n",
        "        model.fit(X_train, y_train)\n",
        "\n",
        "        # Make predictions\n",
        "        y_pred = model.predict(X_test)\n",
        "\n",
        "        # Log accuracy\n",
        "        accuracy = accuracy_score(y_test, y_pred)\n",
        "        mlflow.log_metric(\"accuracy\", accuracy)\n",
        "\n",
        "        # Log classification report\n",
        "        classification_rep = classification_report(y_test, y_pred, output_dict=True)\n",
        "        for label, metrics in classification_rep.items():\n",
        "            if isinstance(metrics, dict):\n",
        "                for metric, value in metrics.items():\n",
        "                    mlflow.log_metric(f\"{label}_{metric}\", value)\n",
        "\n",
        "        # Log the model\n",
        "        mlflow.sklearn.log_model(model, f\"{model_name}_model\")\n",
        "\n",
        "# Step 6: Optuna objective function for Multinomial Naive Bayes\n",
        "def objective_mnb(trial):\n",
        "    alpha = trial.suggest_float('alpha', 1e-4, 1.0, log=True)  # Tuning the smoothing parameter\n",
        "\n",
        "    # MultinomialNB model setup with computed class priors\n",
        "    model = MultinomialNB(alpha=alpha, fit_prior=True)  # ✅ `fit_prior=True` automatically learns priors\n",
        "\n",
        "    # Fit and evaluate the model\n",
        "    model.fit(X_train_vec, y_train)\n",
        "    y_pred = model.predict(X_test_vec)\n",
        "    return accuracy_score(y_test, y_pred)\n",
        "\n",
        "# Step 7: Run Optuna for Multinomial Naive Bayes, log the best model only\n",
        "def run_optuna_experiment():\n",
        "    study = optuna.create_study(direction=\"maximize\")\n",
        "    study.optimize(objective_mnb, n_trials=30)\n",
        "\n",
        "    # Get the best parameters and log only the best model\n",
        "    best_params = study.best_params\n",
        "    best_model = MultinomialNB(alpha=best_params['alpha'], fit_prior=True)  # ✅ No manual `class_prior`\n",
        "\n",
        "    # Log the best model with MLflow\n",
        "    log_mlflow(\"MultinomialNB\", best_model, X_train_vec, X_test_vec, y_train, y_test)\n",
        "\n",
        "# Run the experiment for Multinomial Naive Bayes\n",
        "run_optuna_experiment()\n"
      ]
    },
    {
      "cell_type": "code",
      "execution_count": null,
      "metadata": {
        "id": "9_X8KbpdMQaS"
      },
      "outputs": [],
      "source": []
    }
  ],
  "metadata": {
    "colab": {
      "provenance": []
    },
    "kernelspec": {
      "display_name": "base",
      "language": "python",
      "name": "python3"
    },
    "language_info": {
      "codemirror_mode": {
        "name": "ipython",
        "version": 3
      },
      "file_extension": ".py",
      "mimetype": "text/x-python",
      "name": "python",
      "nbconvert_exporter": "python",
      "pygments_lexer": "ipython3",
      "version": "3.12.7"
    }
  },
  "nbformat": 4,
  "nbformat_minor": 0
}
