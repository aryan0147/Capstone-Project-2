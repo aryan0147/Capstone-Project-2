{
  "cells": [
    {
      "cell_type": "code",
      "execution_count": 7,
      "metadata": {
        "id": "r-7ysUuxyuVs"
      },
      "outputs": [
        {
          "data": {
            "text/html": [
              "<pre style=\"white-space:pre;overflow-x:auto;line-height:normal;font-family:Menlo,'DejaVu Sans Mono',consolas,'Courier New',monospace\">Initialized MLflow to track repo <span style=\"color: #008000; text-decoration-color: #008000\">\"aryan0147/Capstone-Project-2\"</span>\n",
              "</pre>\n"
            ],
            "text/plain": [
              "Initialized MLflow to track repo \u001b[32m\"aryan0147/Capstone-Project-2\"\u001b[0m\n"
            ]
          },
          "metadata": {},
          "output_type": "display_data"
        },
        {
          "data": {
            "text/html": [
              "<pre style=\"white-space:pre;overflow-x:auto;line-height:normal;font-family:Menlo,'DejaVu Sans Mono',consolas,'Courier New',monospace\">Repository aryan0147/Capstone-Project-<span style=\"color: #008080; text-decoration-color: #008080; font-weight: bold\">2</span> initialized!\n",
              "</pre>\n"
            ],
            "text/plain": [
              "Repository aryan0147/Capstone-Project-\u001b[1;36m2\u001b[0m initialized!\n"
            ]
          },
          "metadata": {},
          "output_type": "display_data"
        }
      ],
      "source": [
        "import dagshub\n",
        "import mlflow\n",
        "mlflow.set_tracking_uri(\"https://dagshub.com/aryan0147/Capstone-Project-2.mlflow\")\n",
        "\n",
        "dagshub.init(repo_owner='aryan0147', repo_name='Capstone-Project-2', mlflow=True)"
      ]
    },
    {
      "cell_type": "code",
      "execution_count": 8,
      "metadata": {},
      "outputs": [],
      "source": [
        "import pandas as pd\n",
        "from sklearn.feature_extraction.text import TfidfVectorizer\n",
        "from sklearn.model_selection import train_test_split\n",
        "from sklearn.metrics import accuracy_score, classification_report\n",
        "from imblearn.over_sampling import SMOTE\n",
        "from lightgbm import LGBMClassifier\n",
        "import mlflow\n",
        "import mlflow.sklearn\n",
        "import optuna"
      ]
    },
    {
      "cell_type": "code",
      "execution_count": 9,
      "metadata": {
        "colab": {
          "base_uri": "https://localhost:8080/"
        },
        "id": "PKDf830by4j8",
        "outputId": "882d3a38-037e-442a-e9d4-24ff5bd736c7"
      },
      "outputs": [
        {
          "data": {
            "text/plain": [
              "<Experiment: artifact_location='mlflow-artifacts:/d43192cc72bb48deb03d07938721755b', creation_time=1739197271560, experiment_id='12', last_update_time=1739197271560, lifecycle_stage='active', name='ML-Algos', tags={}>"
            ]
          },
          "execution_count": 9,
          "metadata": {},
          "output_type": "execute_result"
        }
      ],
      "source": [
        "# Set or create an experiment\n",
        "mlflow.set_experiment(\"ML-Algos\")"
      ]
    },
    {
      "cell_type": "code",
      "execution_count": 10,
      "metadata": {
        "colab": {
          "base_uri": "https://localhost:8080/"
        },
        "id": "ApulXm9Yy-m7",
        "outputId": "ea6ec006-f4d6-4aad-9687-f9edef00a686"
      },
      "outputs": [
        {
          "data": {
            "text/plain": [
              "(36662, 2)"
            ]
          },
          "execution_count": 10,
          "metadata": {},
          "output_type": "execute_result"
        }
      ],
      "source": [
        "df = pd.read_csv('../reddit_preprocessing.csv').dropna()\n",
        "df.shape"
      ]
    },
    {
      "cell_type": "code",
      "execution_count": 12,
      "metadata": {
        "colab": {
          "base_uri": "https://localhost:8080/"
        },
        "id": "frq0yf4CzXXv",
        "outputId": "faa54a1b-733a-4d6d-b3bd-ef35cdd6ad61"
      },
      "outputs": [
        {
          "name": "stderr",
          "output_type": "stream",
          "text": [
            "[I 2025-02-10 20:14:53,716] A new study created in memory with name: no-name-40f20da8-da4b-450b-8fcf-219fec528c8d\n",
            "[I 2025-02-10 20:14:53,794] Trial 0 finished with value: 0.6285285694804309 and parameters: {'C': 0.00525699913851439, 'penalty': 'l2'}. Best is trial 0 with value: 0.6285285694804309.\n",
            "[I 2025-02-10 20:14:53,887] Trial 1 finished with value: 0.7098049911359607 and parameters: {'C': 0.025518589739789477, 'penalty': 'l2'}. Best is trial 1 with value: 0.7098049911359607.\n",
            "[I 2025-02-10 20:14:53,909] Trial 2 finished with value: 0.22501022773762444 and parameters: {'C': 0.00010156887451916792, 'penalty': 'l1'}. Best is trial 1 with value: 0.7098049911359607.\n",
            "[I 2025-02-10 20:14:54,089] Trial 3 finished with value: 0.789581344606573 and parameters: {'C': 0.9879956804585234, 'penalty': 'l2'}. Best is trial 3 with value: 0.789581344606573.\n",
            "[I 2025-02-10 20:14:54,117] Trial 4 finished with value: 0.4301104595663439 and parameters: {'C': 0.0004949830876919085, 'penalty': 'l1'}. Best is trial 3 with value: 0.789581344606573.\n",
            "[I 2025-02-10 20:14:54,184] Trial 5 finished with value: 0.6633028774035183 and parameters: {'C': 0.009013960645961248, 'penalty': 'l2'}. Best is trial 3 with value: 0.789581344606573.\n",
            "[I 2025-02-10 20:14:54,346] Trial 6 finished with value: 0.7938088094913405 and parameters: {'C': 3.944001384109246, 'penalty': 'l1'}. Best is trial 6 with value: 0.7938088094913405.\n",
            "[I 2025-02-10 20:14:54,416] Trial 7 finished with value: 0.6783035592526933 and parameters: {'C': 0.01189212858486315, 'penalty': 'l2'}. Best is trial 6 with value: 0.7938088094913405.\n",
            "[I 2025-02-10 20:14:54,494] Trial 8 finished with value: 0.6517114414291558 and parameters: {'C': 0.007560498285888836, 'penalty': 'l2'}. Best is trial 6 with value: 0.7938088094913405.\n",
            "[I 2025-02-10 20:14:54,689] Trial 9 finished with value: 0.7910814127914905 and parameters: {'C': 1.5485943630123198, 'penalty': 'l2'}. Best is trial 6 with value: 0.7938088094913405.\n",
            "[I 2025-02-10 20:14:54,844] Trial 10 finished with value: 0.7933996999863631 and parameters: {'C': 9.536533492696371, 'penalty': 'l1'}. Best is trial 6 with value: 0.7938088094913405.\n",
            "[I 2025-02-10 20:14:54,994] Trial 11 finished with value: 0.7933996999863631 and parameters: {'C': 9.666794639484097, 'penalty': 'l1'}. Best is trial 6 with value: 0.7938088094913405.\n",
            "[I 2025-02-10 20:14:55,090] Trial 12 finished with value: 0.7954452475112506 and parameters: {'C': 0.3200067137688668, 'penalty': 'l1'}. Best is trial 12 with value: 0.7954452475112506.\n",
            "[I 2025-02-10 20:14:55,181] Trial 13 finished with value: 0.786581208236738 and parameters: {'C': 0.21237149582751377, 'penalty': 'l1'}. Best is trial 12 with value: 0.7954452475112506.\n",
            "[I 2025-02-10 20:14:55,273] Trial 14 finished with value: 0.7828992226919406 and parameters: {'C': 0.19887109306923637, 'penalty': 'l1'}. Best is trial 12 with value: 0.7954452475112506.\n",
            "[I 2025-02-10 20:14:55,388] Trial 15 finished with value: 0.7947633983362881 and parameters: {'C': 0.29223748685966555, 'penalty': 'l1'}. Best is trial 12 with value: 0.7954452475112506.\n",
            "[I 2025-02-10 20:14:55,456] Trial 16 finished with value: 0.7564434747033956 and parameters: {'C': 0.09677733890204906, 'penalty': 'l1'}. Best is trial 12 with value: 0.7954452475112506.\n",
            "[I 2025-02-10 20:14:55,561] Trial 17 finished with value: 0.7989908632210555 and parameters: {'C': 0.5585247270429549, 'penalty': 'l1'}. Best is trial 17 with value: 0.7989908632210555.\n",
            "[I 2025-02-10 20:14:55,674] Trial 18 finished with value: 0.797763534706123 and parameters: {'C': 0.9063913418180877, 'penalty': 'l1'}. Best is trial 17 with value: 0.7989908632210555.\n",
            "[I 2025-02-10 20:14:55,795] Trial 19 finished with value: 0.7984453838810855 and parameters: {'C': 1.0408631512502684, 'penalty': 'l1'}. Best is trial 17 with value: 0.7989908632210555.\n",
            "[I 2025-02-10 20:14:55,860] Trial 20 finished with value: 0.6976680758216283 and parameters: {'C': 0.04834278387712854, 'penalty': 'l1'}. Best is trial 17 with value: 0.7989908632210555.\n",
            "[I 2025-02-10 20:14:56,003] Trial 21 finished with value: 0.796399836356198 and parameters: {'C': 1.6025507677509934, 'penalty': 'l1'}. Best is trial 17 with value: 0.7989908632210555.\n",
            "[I 2025-02-10 20:14:56,121] Trial 22 finished with value: 0.799399972726033 and parameters: {'C': 0.6595810586707376, 'penalty': 'l1'}. Best is trial 22 with value: 0.799399972726033.\n",
            "[I 2025-02-10 20:14:56,237] Trial 23 finished with value: 0.7995363425610255 and parameters: {'C': 0.6359438423322425, 'penalty': 'l1'}. Best is trial 23 with value: 0.7995363425610255.\n",
            "[I 2025-02-10 20:14:56,375] Trial 24 finished with value: 0.7946270285012955 and parameters: {'C': 3.2448838000683575, 'penalty': 'l1'}. Best is trial 23 with value: 0.7995363425610255.\n",
            "[I 2025-02-10 20:14:56,477] Trial 25 finished with value: 0.798581753716078 and parameters: {'C': 0.48861464913392966, 'penalty': 'l1'}. Best is trial 23 with value: 0.7995363425610255.\n",
            "[I 2025-02-10 20:14:56,545] Trial 26 finished with value: 0.7494886131187781 and parameters: {'C': 0.08685439733592659, 'penalty': 'l1'}. Best is trial 23 with value: 0.7995363425610255.\n",
            "[I 2025-02-10 20:14:56,584] Trial 27 finished with value: 0.4301104595663439 and parameters: {'C': 0.002148552948695323, 'penalty': 'l1'}. Best is trial 23 with value: 0.7995363425610255.\n",
            "[I 2025-02-10 20:14:56,732] Trial 28 finished with value: 0.794217918996318 and parameters: {'C': 3.498995219910433, 'penalty': 'l1'}. Best is trial 23 with value: 0.7995363425610255.\n",
            "[I 2025-02-10 20:14:56,805] Trial 29 finished with value: 0.7606709395881631 and parameters: {'C': 0.10471193293471943, 'penalty': 'l1'}. Best is trial 23 with value: 0.7995363425610255.\n",
            "2025/02/10 20:15:15 WARNING mlflow.models.model: Model logged without a signature and input example. Please set `input_example` parameter when logging the model to auto infer the model signature.\n"
          ]
        },
        {
          "name": "stdout",
          "output_type": "stream",
          "text": [
            "🏃 View run LogisticRegression_ClassWeights_TFIDF_Trigrams at: https://dagshub.com/aryan0147/Capstone-Project-2.mlflow/#/experiments/12/runs/6f5f355cdb9f4135b286b624821df136\n",
            "🧪 View experiment at: https://dagshub.com/aryan0147/Capstone-Project-2.mlflow/#/experiments/12\n"
          ]
        }
      ],
      "source": [
        "import mlflow\n",
        "import optuna\n",
        "import numpy as np\n",
        "import pandas as pd\n",
        "from sklearn.feature_extraction.text import TfidfVectorizer\n",
        "from sklearn.model_selection import train_test_split\n",
        "from sklearn.utils.class_weight import compute_class_weight\n",
        "from sklearn.linear_model import LogisticRegression\n",
        "from sklearn.metrics import accuracy_score, classification_report\n",
        "\n",
        "# Step 1: Remove rows where the target labels (category) are NaN\n",
        "df = df.dropna(subset=['category'])\n",
        "\n",
        "# Step 2: TF-IDF vectorization setup\n",
        "ngram_range = (1, 3)  # Trigram\n",
        "max_features = 1000  # Set max_features to 1000\n",
        "vectorizer = TfidfVectorizer(ngram_range=ngram_range, max_features=max_features)\n",
        "\n",
        "# **Step 3: Train-test split BEFORE any class balancing (Prevents data leakage)**\n",
        "X_train, X_test, y_train, y_test = train_test_split(\n",
        "    df['clean_comment'], df['category'], test_size=0.2, random_state=42, stratify=df['category']\n",
        ")\n",
        "\n",
        "# **Step 4: Fit TF-IDF only on training data**\n",
        "X_train_vec = vectorizer.fit_transform(X_train)  # Fit only on training data\n",
        "X_test_vec = vectorizer.transform(X_test)  # Transform test data without refitting\n",
        "\n",
        "# **Step 5: Compute Class Weights Instead of SMOTE**\n",
        "class_weights = compute_class_weight(class_weight=\"balanced\", classes=np.unique(y_train), y=y_train)\n",
        "class_weight_dict = {cls: weight for cls, weight in zip(np.unique(y_train), class_weights)}\n",
        "\n",
        "# Function to log results in MLflow\n",
        "def log_mlflow(model_name, model, X_train, X_test, y_train, y_test):\n",
        "    with mlflow.start_run():\n",
        "        mlflow.set_tag(\"mlflow.runName\", f\"{model_name}_ClassWeights_TFIDF_Trigrams\")\n",
        "        mlflow.set_tag(\"experiment_type\", \"algorithm_comparison\")\n",
        "\n",
        "        # Log algorithm name as a parameter\n",
        "        mlflow.log_param(\"algo_name\", model_name)\n",
        "\n",
        "        # Train model\n",
        "        model.fit(X_train, y_train)\n",
        "\n",
        "        # Make predictions\n",
        "        y_pred = model.predict(X_test)\n",
        "\n",
        "        # Log accuracy\n",
        "        accuracy = accuracy_score(y_test, y_pred)\n",
        "        mlflow.log_metric(\"accuracy\", accuracy)\n",
        "\n",
        "        # Log classification report\n",
        "        classification_rep = classification_report(y_test, y_pred, output_dict=True)\n",
        "        for label, metrics in classification_rep.items():\n",
        "            if isinstance(metrics, dict):\n",
        "                for metric, value in metrics.items():\n",
        "                    mlflow.log_metric(f\"{label}_{metric}\", value)\n",
        "\n",
        "        # Log the model\n",
        "        mlflow.sklearn.log_model(model, f\"{model_name}_model\")\n",
        "\n",
        "# Step 6: Optuna objective function for Logistic Regression\n",
        "def objective_logreg(trial):\n",
        "    C = trial.suggest_float('C', 1e-4, 10.0, log=True)\n",
        "    penalty = trial.suggest_categorical('penalty', ['l1', 'l2'])\n",
        "\n",
        "    # Logistic Regression with computed class weights\n",
        "    model = LogisticRegression(\n",
        "        C=C, penalty=penalty, solver='liblinear', class_weight=class_weight_dict, random_state=42\n",
        "    )\n",
        "\n",
        "    # Fit and evaluate the model\n",
        "    model.fit(X_train_vec, y_train)\n",
        "    y_pred = model.predict(X_test_vec)\n",
        "    return accuracy_score(y_test, y_pred)\n",
        "\n",
        "# Step 7: Run Optuna for Logistic Regression, log the best model only\n",
        "def run_optuna_experiment():\n",
        "    study = optuna.create_study(direction=\"maximize\")\n",
        "    study.optimize(objective_logreg, n_trials=30)\n",
        "\n",
        "    # Get the best parameters and log only the best model\n",
        "    best_params = study.best_params\n",
        "    best_model = LogisticRegression(\n",
        "        C=best_params['C'], penalty=best_params['penalty'], solver='liblinear',\n",
        "        class_weight=class_weight_dict, random_state=42\n",
        "    )\n",
        "\n",
        "    # Log the best model with MLflow\n",
        "    log_mlflow(\"LogisticRegression\", best_model, X_train_vec, X_test_vec, y_train, y_test)\n",
        "\n",
        "# Run the experiment for Logistic Regression\n",
        "run_optuna_experiment()\n"
      ]
    },
    {
      "cell_type": "code",
      "execution_count": null,
      "metadata": {},
      "outputs": [],
      "source": []
    }
  ],
  "metadata": {
    "colab": {
      "provenance": []
    },
    "kernelspec": {
      "display_name": "base",
      "language": "python",
      "name": "python3"
    },
    "language_info": {
      "codemirror_mode": {
        "name": "ipython",
        "version": 3
      },
      "file_extension": ".py",
      "mimetype": "text/x-python",
      "name": "python",
      "nbconvert_exporter": "python",
      "pygments_lexer": "ipython3",
      "version": "3.12.7"
    }
  },
  "nbformat": 4,
  "nbformat_minor": 0
}
